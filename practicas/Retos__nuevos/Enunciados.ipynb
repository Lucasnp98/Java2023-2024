{
 "cells": [
  {
   "cell_type": "markdown",
   "metadata": {},
   "source": [
    "# Números polidivisibles\n",
    "\"Desarrolla un programa en Java que, al recibir un número como entrada, determine si dicho número es polidivisible. Un número se considera polidivisible si cada uno de sus dígitos, tomado en orden de izquierda a derecha, es divisible por su posición en el número. El programa deberá informar al usuario si el número dado cumple con la propiedad de polidivisibilidad o no.\n",
    "\n",
    "Por ejemplo:\n",
    "\n",
    "- El número 102 es polidivisible ya que el primer dígito (1) es divisible por 1, 10 es divisible por 2, y  102 es divisible por 3.\n",
    "\n",
    "- El número 381654729 es polidivisible, ya que cada dígito, desde el primero hasta el último, satisface la condición de ser divisible por su posición en el número.\n",
    "\n",
    "**Duración**: 15 minutos"
   ]
  },
  {
   "cell_type": "markdown",
   "metadata": {},
   "source": [
    "# Palíndromo\n",
    "- Realizar un programa en Java que detecte si una cadena es palíndromo. \n",
    "- Un palíndromo permanece igual incluso si sus caracteres se invierten. Algunos ejemplos comunes de palíndromos son \"reconocer\", \"oso\", \"radar\" y \"anita lava la tina\". La propiedad fundamental de un palíndromo es que su estructura se mantiene simétrica alrededor de su centro.\n",
    "- Podremos apoyarnos en la clase String pero deberemos programar nuestro método reverse.\n",
    "\n",
    "**Duración**: 15 minutos"
   ]
  },
  {
   "cell_type": "markdown",
   "metadata": {},
   "source": [
    "# JavaGoldbach\n",
    "\n",
    "- La Conjetura Débil de Goldbach es una hipótesis matemática que sugiere que todo número par mayor que 2 puede expresarse como la suma de dos números primos. Esta conjetura, propuesta por el matemático Christian Goldbach en una carta a Euler en 1742, sigue siendo uno de los problemas abiertos más antiguos y conocidos en teoría de números. La veracidad de la conjetura débil de Goldbach ha sido confirmada para números extremadamente grandes, pero aún no ha sido demostrada de manera general. La conjetura ha inspirado numerosos estudios y es un tema fascinante en el ámbito de las matemáticas.\n",
    "- Se pide realizar un programa que dado un número par, imprima por pantalla qué suma de números primos obtienen dicho número.\n",
    "\n",
    "**Ejemplo** \n",
    "- 18 = 5 + 13 \n",
    "- 18 = 7 + 11\n",
    "- 18 = 13 + 5 -> Nuestro programa solo debe imprimir una vez la pareja\n",
    "- 18 = 11 + 7 -> Nuestro programa solo debe imprimir una vez la pareja\n",
    "\n",
    "Por ello, podemos almacenar los primos utilizados en una estructura que no admita repetidos...\n",
    "\n",
    "**Duración**: 20 minutos"
   ]
  },
  {
   "cell_type": "markdown",
   "metadata": {},
   "source": [
    "\n",
    "## Reto 4. Árbol de navidad\n",
    "**Objetivo**: Pintar un árbol de navidad como el que se muestra a continuación (basado en asteriscos), programado de la forma más automatizada posible mediante la utilización de bucles.\n",
    "\n",
    "**Tipo de trabajo**: Colaborativo en grupos de 4 alumnos.\n",
    "\n",
    "**Duración**: 20 minutos\n",
    "\n",
    "**Datos**: Se deberá automatizar para que sea capaz de pintar árboles de cualquier número de pisos, ancho y pareja de caracteres a representar (**, ##, ^^, etc.).\n",
    "\n",
    "A modo de ejemplo, para validar el resultado del programa, se deberá programar el siguiente árbol:\n",
    "\n",
    "Árbol de 3 pisos, con las siguientes características:\n",
    "1. Altura de 5 líneas y un ancho máximo de 10 asteriscos\n",
    "2. Altura de 7 líneas y un ancho máximo de 14 asteriscos\n",
    "3. Altura de 9 líneas y un ancho máximo de 18 asteriscos\n",
    "\n",
    "El ancho mínimo es de dos asteriscos.\n",
    "\n",
    "**Salida del programa**:\n",
    " ```\n",
    "                 **\n",
    "                ****\n",
    "               ******\n",
    "              ********\n",
    "             **********\n",
    "                 **\n",
    "                ****\n",
    "               ******\n",
    "              ********\n",
    "             **********\n",
    "            ************\n",
    "           **************\n",
    "                 **\n",
    "                ****\n",
    "               ******\n",
    "              ********\n",
    "             **********\n",
    "            ************\n",
    "           **************\n",
    "          ****************\n",
    "         ******************\n",
    "```"
   ]
  },
  {
   "cell_type": "markdown",
   "metadata": {},
   "source": [
    " ## Reto 5. Benchmarking cálculo del número PI\n",
    " \n",
    "**Objetivo**: Realizar un becnhmarking sobre el cálculo del número PI mediante el Método de Montecarlo que se suministra con distinto número de iteraciones.\n",
    "\n",
    "**Tipo de trabajo**: Colaborativo en grupos de 4 alumnos.\n",
    "\n",
    "**Duración**: 15 minutos\n",
    "\n",
    "**Datos**: Las iteraciones a probar serán desde 1 hasta 10^8, en incrementos de x10.\n",
    "\n",
    "**Salida del programa**: Mostrar una tabla de resultados que muestre los siguientes valores:\n",
    "\n",
    "El significado de cada columna es:\n",
    "```\n",
    "Valor obtenido de PI, número de iteraciones, tiempo de ejecución, error absoluto obtenido.\n",
    "```\n",
    "No será necesario mostrar el encabezado anterior.\n",
    "\n",
    "```\n",
    "4.0, 1, 0ms., 858407 error\n",
    "2.8, 10, 0ms., 341592 error\n",
    "3.28, 100, 0ms., 138407 error\n",
    "3.016, 1000, 0ms., 125592 error\n",
    "3.1628, 10000, 12ms., 21207 error\n",
    "3.14064, 100000, 113ms., 952 error\n",
    "3.140548, 1000000, 935ms., 1044 error\n",
    "3.141434, 10000000, 9971ms., 158 error\n",
    "```"
   ]
  },
  {
   "cell_type": "code",
   "execution_count": 1,
   "metadata": {},
   "outputs": [],
   "source": [
    "class App\n",
    "{\n",
    "    static double calculoPIMontecarlo(long iteraciones)\n",
    "    {\n",
    "        double x;\n",
    "        double y;\n",
    "        int exito = 0;\n",
    "        for (int i=0;i<iteraciones;i++)\n",
    "        {\n",
    "            x = Math.random();\n",
    "            y = Math.random();\n",
    "            if ((Math.pow(x, 2) + Math.pow(y, 2)) <= 1)\n",
    "                exito++;\n",
    "        }\n",
    "        return (double) (4*exito)/iteraciones;\n",
    "    }  \n",
    "}"
   ]
  },
  {
   "cell_type": "markdown",
   "metadata": {},
   "source": [
    "### Trabajando con la hora del sistema"
   ]
  },
  {
   "cell_type": "code",
   "execution_count": 3,
   "metadata": {},
   "outputs": [
    {
     "name": "stdout",
     "output_type": "stream",
     "text": [
      "Thu Feb 29 09:16:52 CET 2024\r\n"
     ]
    }
   ],
   "source": [
    "import java.util.Date;\n",
    "\n",
    "Date tiempo = new Date();\n",
    "System.out.println(tiempo);"
   ]
  },
  {
   "cell_type": "code",
   "execution_count": 4,
   "metadata": {},
   "outputs": [
    {
     "name": "stdout",
     "output_type": "stream",
     "text": [
      "1709194612112\r\n"
     ]
    }
   ],
   "source": [
    "System.out.println(tiempo.getTime());"
   ]
  },
  {
   "cell_type": "code",
   "execution_count": 10,
   "metadata": {},
   "outputs": [
    {
     "name": "stdout",
     "output_type": "stream",
     "text": [
      "1709194612112\r\n"
     ]
    }
   ],
   "source": [
    "long horaActual = tiempo.getTime();\n",
    "System.out.println(horaActual);"
   ]
  }
 ],
 "metadata": {
  "kernelspec": {
   "display_name": "Java",
   "language": "java",
   "name": "java"
  },
  "language_info": {
   "codemirror_mode": "java",
   "file_extension": ".jshell",
   "mimetype": "text/x-java-source",
   "name": "Java",
   "pygments_lexer": "java",
   "version": "19.0.2+7-44"
  }
 },
 "nbformat": 4,
 "nbformat_minor": 4
}
