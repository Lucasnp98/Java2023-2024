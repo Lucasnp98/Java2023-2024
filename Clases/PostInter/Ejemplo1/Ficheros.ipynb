{
 "cells": [
  {
   "cell_type": "markdown",
   "metadata": {},
   "source": [
    "### Ficheros de texto.\n",
    "Para trabajar con ficheros de texto, debemos trabajar con dos clases principales. Estas dos clases son la clase FileWriter y la Clase PrintWriter. Podemos echar un vistazo a ambas clases para ver su funcionalidad. \n",
    "- **PrintWriter** :\n",
    "https://docs.oracle.com/javase/8/docs/api/java/io/PrintWriter.html#PrintWriter-java.io.File-\n",
    "- **FileWriter** : \n",
    "https://docs.oracle.com/javase/8/docs/api/java/io/FileWriter.html\n"
   ]
  },
  {
   "cell_type": "markdown",
   "metadata": {},
   "source": [
    "- En este primer ejemplo, creamos un objeto FileWriter con el fichero donde queremos **escribir**. Acto seguido, creamos un objeto PrintWriter a partir del fichero creado previamente. Ahora, mediante el método println, podemos escribir distintas líneas en el fichero. \n",
    "- IMPORTANTE: Cuando abrimos un fichero para escribir, borramos su contenido si no lo especificamos en el constructor.  Tenemos que indicar que queremos añadir si no queremos sobreescribirlo."
   ]
  },
  {
   "cell_type": "markdown",
   "metadata": {},
   "source": [
    "### Primer Ejemplo"
   ]
  },
  {
   "cell_type": "code",
   "execution_count": 13,
   "metadata": {},
   "outputs": [],
   "source": [
    "FileWriter f = new FileWriter(\"prueba.txt\");\n",
    "PrintWriter p = new PrintWriter(f);\n",
    "p.println(\"Hola que tal\");\n",
    "p.println(\"Mi primer fichero\");\n",
    "p.print(\"Ahora tengo otra linea\");\n",
    "p.print(\"Como he escrito con print, no hay salto de línea\");\n",
    "p.close();\n",
    "\n"
   ]
  },
  {
   "cell_type": "markdown",
   "metadata": {},
   "source": [
    "### Creamos una clase Persona"
   ]
  },
  {
   "cell_type": "code",
   "execution_count": 2,
   "metadata": {},
   "outputs": [],
   "source": [
    "\n",
    "public class Persona \n",
    "{\n",
    "    public final static int EDAD_MAXIMA = 120;\n",
    "    public final static int EDAD_MINIMA = 0;\n",
    "\n",
    "    private String nombre;\n",
    "    private int edad;\n",
    "    private String nif;\n",
    "\n",
    "    public Persona(String nombre, String nif, int edad)\n",
    "    {\n",
    "        this.nombre = nombre;\n",
    "        this.nif = nif;\n",
    "        this.setEdad(edad);     \n",
    "    }\n",
    "\n",
    "    public Persona(String nombre, String nif)\n",
    "    {\n",
    "        this.nombre = nombre;\n",
    "        this.nif = nif;\n",
    "    }\n",
    "\n",
    "    /* Contructor de búsqueda: equals */\n",
    "    public Persona(String nif)\n",
    "    {\n",
    "        this.nif = nif;\n",
    "    }\n",
    "\n",
    "    public String getNombre()\n",
    "    {\n",
    "        return nombre;\n",
    "    }\n",
    "\n",
    "    public String getNif()\n",
    "    {\n",
    "        return nif;\n",
    "    }\n",
    "\n",
    "    public int getEdad()\n",
    "    {\n",
    "        return edad;\n",
    "    }\n",
    "\n",
    "    public void setNif(String nif)\n",
    "    {\n",
    "        this.nif = nif;\n",
    "    }\n",
    "\n",
    "    public void setNombre(String nombre)\n",
    "    {\n",
    "        this.nombre = nombre;\n",
    "    }\n",
    "\n",
    "    public void setEdad(int edad)\n",
    "    {\n",
    "        if(edad > EDAD_MINIMA && edad < EDAD_MAXIMA)\n",
    "            this.edad = edad;       \n",
    "    }\n",
    "\n",
    "    /*public String toTxt()\n",
    "    {\n",
    "   \n",
    "    String linea = nombre + \" \" + nif + \" \" + edad;\n",
    "    return linea;\n",
    "    \n",
    "    }*/\n",
    "    \n",
    "    /*public String toCSV()\n",
    "    {\n",
    "    StringBuilder sb = new StringBuilder();\n",
    "    sb.append(nombre);\n",
    "    sb.append(\",\");\n",
    "    sb.append(nif);\n",
    "    sb.append(\",\");\n",
    "    sb.append(edad);\n",
    "    return sb.toString();\n",
    "    }*/\n",
    "\n",
    "    @Override\n",
    "    public String toString()\n",
    "    {\n",
    "        StringBuilder sb = new StringBuilder();\n",
    "        sb.append(\"Nombre: \")\n",
    "          .append(nombre)\n",
    "          .append(\" Edad: \")\n",
    "          .append(edad)\n",
    "          .append(\" NIF: \")\n",
    "          .append(nif);\n",
    "        return sb.toString();\n",
    "    }\n",
    "\n",
    "    \n",
    "\n",
    "    @Override\n",
    "    public boolean equals(Object obj)\n",
    "    {\n",
    "        if(obj instanceof Persona)\n",
    "        {\n",
    "            Persona p = (Persona) obj;\n",
    "            if (nif.equals(p.getNif()))\n",
    "                return true;\n",
    "            else\n",
    "                return false;\n",
    "        }\n",
    "        else\n",
    "            return false;\n",
    "    }\n",
    "}"
   ]
  },
  {
   "cell_type": "markdown",
   "metadata": {},
   "source": [
    "## Ejemplo\n",
    "- Vamos a escribir los datos de varias Personas..."
   ]
  },
  {
   "cell_type": "code",
   "execution_count": 36,
   "metadata": {},
   "outputs": [],
   "source": [
    "//formato txt\n",
    "Persona p1 = new Persona(\"Dani\", \"1234J\",24);\n",
    "ArrayList<Persona> personas = new ArrayList<Persona>();\n",
    "personas.add(p1);\n",
    "personas.add(new Persona(\"Ana\", \"15467J\", 28));\n",
    "personas.add(new Persona(\"Pepe\",\"18920K\",58));\n",
    "\n",
    "FileWriter f = new FileWriter(\"personas.txt\");\n",
    "PrintWriter p = new PrintWriter(f);\n",
    "for (Persona p_aux:personas)\n",
    "{\n",
    "p.println(p_aux.toString());\n",
    "}\n",
    "p.close()\n"
   ]
  },
  {
   "cell_type": "code",
   "execution_count": 40,
   "metadata": {},
   "outputs": [],
   "source": [
    "//formato csv\n",
    "Persona p1 = new Persona(\"Dani\", \"1234J\",24);\n",
    "ArrayList<Persona> personas = new ArrayList<Persona>();\n",
    "personas.add(p1);\n",
    "personas.add(new Persona(\"Ana\", \"15467J\", 28));\n",
    "personas.add(new Persona(\"Pepe\",\"18920K\",58));\n",
    "\n",
    "FileWriter f = new FileWriter(\"personas.csv\");\n",
    "PrintWriter p = new PrintWriter(f);\n",
    "for (Persona p_aux:personas)\n",
    "{\n",
    "p.println(p_aux.toCSV());\n",
    "}\n",
    "p.close()\n"
   ]
  },
  {
   "cell_type": "code",
   "execution_count": 41,
   "metadata": {},
   "outputs": [],
   "source": [
    "\n",
    "import java.io.EOFException;\n",
    "import java.io.File;\n",
    "import java.io.FileInputStream;\n",
    "import java.io.FileOutputStream;\n",
    "import java.io.FileWriter;\n",
    "import java.io.IOException;\n",
    "import java.io.ObjectInput;\n",
    "import java.io.ObjectInputStream;\n",
    "import java.io.ObjectOutputStream;\n",
    "import java.io.PrintWriter;\n",
    "import java.util.ArrayList;\n",
    "import java.util.Collection;"
   ]
  },
  {
   "cell_type": "markdown",
   "metadata": {},
   "source": [
    "# Leer ficheros de texto\n",
    "- Para leer ficheros de texto, vamos a utilizar la clase FileReader y la clase BufferedReader. Podemos echarle un vistazo aquí: \n",
    "- FileReader :https://docs.oracle.com/javase/8/docs/api/java/io/FileReader.html\n",
    "- BufferedReader: https://docs.oracle.com/javase/8/docs/api/java/io/BufferedReader.html#BufferedReader-java.io.Reader-"
   ]
  },
  {
   "cell_type": "markdown",
   "metadata": {},
   "source": [
    "###  El siguiente código de Python equivaldría a lo que vamos a hacer en Java con estas dos clases"
   ]
  },
  {
   "cell_type": "code",
   "execution_count": null,
   "metadata": {},
   "outputs": [],
   "source": [
    "# Recordatorio de Python\n",
    "f = open(\"fichero.txt\", \"r\")\n",
    "for linea in f:\n",
    "    print(linea)\n",
    "f.close()"
   ]
  },
  {
   "cell_type": "markdown",
   "metadata": {},
   "source": [
    "# Ejemplo de lectura de un CSV."
   ]
  },
  {
   "cell_type": "code",
   "execution_count": 16,
   "metadata": {},
   "outputs": [
    {
     "name": "stdout",
     "output_type": "stream",
     "text": [
      "-----------\n",
      "Nombre: Dani Edad: 24 NIF: 1234J\n",
      "-----------\n",
      "Nombre: Ana Edad: 28 NIF: 15467J\n",
      "-----------\n",
      "Nombre: Pepe Edad: 58 NIF: 18920K\n",
      "[Nombre: Dani Edad: 24 NIF: 1234J, Nombre: Ana Edad: 28 NIF: 15467J, Nombre: Pepe Edad: 58 NIF: 18920K]\n"
     ]
    }
   ],
   "source": [
    "Collection<Persona> personas = new ArrayList<Persona>();\n",
    "try\n",
    "{\n",
    "   FileReader fr = new FileReader(\"personas.csv\");\n",
    "   BufferedReader br = new BufferedReader(fr);\n",
    "   String linea = null;\n",
    "   while((linea = br.readLine()) != null)\n",
    "   {\n",
    "        //System.out.println(linea);\n",
    "        System.out.println(\"-----------\");\n",
    "        String s[] = linea.split(\",\");\n",
    "        String nombre = s[0];\n",
    "        String dni = s[1];\n",
    "        int edad = Integer.parseInt(s[2]);\n",
    "        Persona p = new Persona(nombre,dni,edad);\n",
    "        System.out.println(p.toString());\n",
    "        personas.add(p);\n",
    "       \n",
    "   }\n",
    "   System.out.println(personas);\n",
    "\n",
    "}\n",
    "catch(IOException ioe)\n",
    "{\n",
    "    ioe.printStackTrace();\n",
    "}\n",
    "\n"
   ]
  },
  {
   "cell_type": "code",
   "execution_count": 31,
   "metadata": {},
   "outputs": [],
   "source": [
    "public class Coche\n",
    "{\n",
    "private String modelo;\n",
    "private int matriculacion;\n",
    "private int itv;\n",
    "public Coche(String modelo, int matriculacion, int itv)\n",
    "{\n",
    "this.modelo = modelo;\n",
    "this.matriculacion = matriculacion;\n",
    "this.itv = itv;\n",
    "}\n",
    "@Override \n",
    "public String toString(){\n",
    "    return this.modelo + \" \" + this.matriculacion + \" \" + this.itv;\n",
    "    }\n",
    "\n",
    "}"
   ]
  },
  {
   "cell_type": "markdown",
   "metadata": {},
   "source": [
    "### Ejercicio\n",
    "- Partimos del siguiente fichero que contiene datos de personas y datos de coches. El objetivo es leer los datos del csv y crear un mapa que tenga como clave a la persona y como valor el coche de la persona.\n",
    "- Una vez hayamos creado  el mapa, queremos reconstruir el mismo fichero anterior pero recorriendo el mapa, es decir, revertir el proceso. \n",
    "\n"
   ]
  }
 ],
 "metadata": {
  "kernelspec": {
   "display_name": "Java",
   "language": "java",
   "name": "java"
  },
  "language_info": {
   "codemirror_mode": "java",
   "file_extension": ".jshell",
   "mimetype": "text/x-java-source",
   "name": "Java",
   "pygments_lexer": "java",
   "version": "19.0.2+7-44"
  }
 },
 "nbformat": 4,
 "nbformat_minor": 4
}
