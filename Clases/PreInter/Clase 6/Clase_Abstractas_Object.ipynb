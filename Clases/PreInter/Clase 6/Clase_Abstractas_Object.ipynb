{
 "cells": [
  {
   "cell_type": "markdown",
   "metadata": {},
   "source": [
    "### Upcasting y downcasting\n",
    "- Vamos a crear una clase Persona, una clase Alumno que hereda de Persona y una clase Doctorando que hereda de Alumno. El objetivo es crear un array de Personas y almacenar en éste todas las instancias de las distintas clases (Upcasting). Podemos hacerlo ya que un Doctorando **es una** Persona y un Alumno **es una** Persona. En definitiva, cumple la regla de es un. \n",
    "- En las siguientes celdas aparece el código de cada una de ellas.\n"
   ]
  },
  {
   "cell_type": "code",
   "execution_count": 2,
   "metadata": {},
   "outputs": [],
   "source": [
    "public class Persona\n",
    "{\n",
    "\tString nombre;\n",
    "\n",
    "\tPersona(String nombre)\n",
    "\t{\n",
    "\t\tthis.nombre = nombre;\n",
    "\t}\n",
    "\n",
    "\tString getNombre()\n",
    "\t{\n",
    "\t\treturn nombre;\n",
    "\t}\n",
    "\n",
    "\tString getInfo()\n",
    "\t{\n",
    "\t\treturn nombre;\n",
    "\t}\n",
    "}"
   ]
  },
  {
   "cell_type": "code",
   "execution_count": 3,
   "metadata": {},
   "outputs": [],
   "source": [
    "public class Alumno extends Persona\n",
    "{\n",
    "\tString asignaturas;\n",
    "\n",
    "\tAlumno(String nombre, String asignaturas)\n",
    "\t{\n",
    "    //super para llamar al constructor de la clase padre\n",
    "\t\tsuper(nombre);\n",
    "\t\tthis.asignaturas = asignaturas;\n",
    "\t}\n",
    "\n",
    "\tString getAsignaturas()\n",
    "\t{\n",
    "\t\treturn asignaturas;\n",
    "\t}\n",
    "\n",
    "\t@Override\n",
    "    String getInfo()\n",
    "\t{\n",
    "        //super para llamar al getinfo de persona\n",
    "\t\treturn super.getInfo() + \" -> \" + asignaturas;\n",
    "\t}\n",
    "}"
   ]
  },
  {
   "cell_type": "code",
   "execution_count": 4,
   "metadata": {},
   "outputs": [],
   "source": [
    "public class Doctorando extends Alumno\n",
    "{\n",
    "String tesis;\n",
    "Doctorando(String nombre, String asignaturas, String tesis)\n",
    "{\n",
    "//super para llamar al constructor de la clase padre.\n",
    "super(nombre,asignaturas);\n",
    "this.tesis = tesis;\n",
    "\n",
    "}\n",
    "\n",
    "String getTesis()\n",
    "{\n",
    "return this.tesis;\n",
    "}\n",
    "\n",
    "@Override\n",
    "String getInfo()\n",
    "{\n",
    "    //super para llamar al getInfo de Alumno... \n",
    "\treturn super.getInfo() + \"-> \" + this.tesis;\n",
    "}\n",
    "\n",
    "\n",
    "}"
   ]
  },
  {
   "cell_type": "markdown",
   "metadata": {},
   "source": [
    "## Ejemplo\n",
    "- Esta celda sería el main de nuestra App.java\n"
   ]
  },
  {
   "cell_type": "code",
   "execution_count": 9,
   "metadata": {},
   "outputs": [
    {
     "name": "stdout",
     "output_type": "stream",
     "text": [
      "Luis -> POO;Estadística\n",
      "Ana\n",
      "Lucas -> Campos;PDS\n",
      "Pepe\n",
      "Manolo -> Latex-> Objetos celestes\n",
      "POO;Estadística\n",
      "Latex\n",
      "Objetos celestes\n"
     ]
    }
   ],
   "source": [
    "\n",
    "Persona personas[] = new Persona[5];\n",
    "personas[0] = new Alumno(\"Luis\", \"POO;Estadística\");  //UPCASTING\n",
    "personas[1] = new Persona(\"Ana\");\n",
    "personas[2] = new Alumno(\"Lucas\",\"Campos;PDS\");\n",
    "personas[3] = new Persona(\"Pepe\");\n",
    "personas[4] = new Doctorando(\"Manolo\",\"Latex\",\"Objetos celestes\");\n",
    "  \n",
    "\n",
    "// Recorro el array de personas e imprimo la información con getInfo!\n",
    "for(Persona p:personas)\n",
    "{\n",
    "    System.out.println(p.getInfo());\n",
    "}\n",
    "\n",
    "\n",
    "/*\n",
    "Esta línea da error, las personas no tienen Asignaturas... son los alumnos\n",
    "los que tienen asignaturas, por lo que produce un error\n",
    "Tenemos que apoyarnos en el concepto de Downcasting!!\n",
    " */\n",
    "//System.out.println(personas[0].getAsignaturas());\n",
    "\n",
    "\n",
    "//Hacemos Downcasting de personas[0] a Alumno para poder acceder a las asignaturas\n",
    "Alumno alu = (Alumno) personas[0];\n",
    "System.out.println(alu.getAsignaturas());\n",
    "\n",
    "/*Este mismo ejemplo pasaría con los Doctorandos... Si queremos acceder a la tésis, \n",
    "tenemos que ser Doctorandos...*/\n",
    "Doctorando alu2 = (Doctorando) personas[4];\n",
    "System.out.println(alu2.getAsignaturas());\n",
    "System.out.println(alu2.getTesis());\n",
    "\n",
    "\n",
    "\n",
    "\n",
    "\n",
    "\n"
   ]
  },
  {
   "cell_type": "markdown",
   "metadata": {},
   "source": [
    "**CLASE OBJECT**\n",
    "\n",
    "- Todos los objetos heredan de la clase object. \n",
    "- En la siguiente celda estamos ejecutando el método hashCode(), no nos da error ya que este método estña siendo heredado de la clase Object. Por aquí está el enlace de la API: https://docs.oracle.com/javase/8/docs/api/\n",
    "- Podemos ver todos los métodos que heredamos de object, los cuales podemos sobreescribir, como .equals, .toString()....\n"
   ]
  },
  {
   "cell_type": "code",
   "execution_count": 12,
   "metadata": {},
   "outputs": [
    {
     "name": "stdout",
     "output_type": "stream",
     "text": [
      "1215625202\r\n"
     ]
    }
   ],
   "source": [
    "Persona p = new Persona(\"Lucas\");\n",
    "System.out.println(p.hashCode());"
   ]
  },
  {
   "cell_type": "markdown",
   "metadata": {},
   "source": [
    "- En el siguiente ejemplo, sobreescribimos el método equals y el toString de una clase Persona."
   ]
  },
  {
   "cell_type": "code",
   "execution_count": 14,
   "metadata": {},
   "outputs": [],
   "source": [
    "public class Persona\n",
    "{\n",
    "    String nombre;\n",
    "    int edad;\n",
    "    String ciudad;\n",
    "    Persona(String nombre, int edad,String ciudad)\n",
    "    {\n",
    "        this.nombre = nombre;\n",
    "        this.edad = edad; \n",
    "        this.ciudad = ciudad;\n",
    "    }\n",
    "    public int getEdad()\n",
    "    {\n",
    "        return this.edad;\n",
    "    }\n",
    "    \n",
    "    public String getNombre()\n",
    "    {\n",
    "        return this.nombre;\n",
    "    }\n",
    "    \n",
    "    public String getCiudad()\n",
    "    {\n",
    "        return this.ciudad;\n",
    "    }\n",
    "    \n",
    "    //Mostramos un mensaje con información\n",
    "    @Override\n",
    "    public String toString()\n",
    "    {\n",
    "         return \"Nombre: \" + this.nombre + \" Edad: \" + this.edad;  \n",
    "    }\n",
    "    \n",
    "    //Editamos el método equals para que dos personas sean iguales si tienen mismo nombre y misma edad\n",
    "    @Override\n",
    "    public boolean equals(Object o)\n",
    "    {\n",
    "        if (o instanceof Persona)\n",
    "        {\n",
    "            Persona p = (Persona) o;\n",
    "            \n",
    "            /* Si queremos que dos personas sean iguales si viven en la misma ciudad...\n",
    "            if p.getCiudad().equals(this.ciudad)\n",
    "            {\n",
    "            return true\n",
    "            \n",
    "            }*/ \n",
    "            \n",
    "            if (p.getNombre().equals(this.nombre) && p.getEdad() == this.edad)\n",
    "            {\n",
    "                return true;\n",
    "            }else{\n",
    "                return false;\n",
    "            }\n",
    "        }\n",
    "        else\n",
    "        {\n",
    "            return false;\n",
    "        }\n",
    "    }\n",
    "    \n",
    "}"
   ]
  },
  {
   "cell_type": "markdown",
   "metadata": {},
   "source": [
    "- Probamos la diferencia entre .equals e ==, mostrando también los hashCodes() de cada Persona. Podemos ver que los hashCode de ambas personas difieren, por lo que == nos devuelve false. \n",
    "- Sin embargo, como hemos sobreescrito el método .equals, si las personas presentan mismo nombre y edad, nuestro equals devolverá un True, independientemente de la Ciudad!\n"
   ]
  },
  {
   "cell_type": "code",
   "execution_count": 18,
   "metadata": {},
   "outputs": [
    {
     "name": "stdout",
     "output_type": "stream",
     "text": [
      "true\n",
      "false\n",
      "1460990488\n",
      "1507006090\n"
     ]
    }
   ],
   "source": [
    "Persona p1 = new Persona(\"Lucas\",18,\"Madrid\");\n",
    "Persona p2 = new Persona(\"Lucas\",18,\"Cádiz\");\n",
    "System.out.println(p1.equals(p2));\n",
    "System.out.println(p1 == p2);\n",
    "System.out.println(p1.hashCode());\n",
    "System.out.println(p2.hashCode());\n"
   ]
  },
  {
   "cell_type": "markdown",
   "metadata": {},
   "source": [
    "### Más ejemplos..."
   ]
  },
  {
   "cell_type": "code",
   "execution_count": 15,
   "metadata": {},
   "outputs": [
    {
     "name": "stdout",
     "output_type": "stream",
     "text": [
      "true\n",
      "false\n",
      "1173981174\n",
      "1173981174\n"
     ]
    }
   ],
   "source": [
    "\n",
    "Persona p1 = new Persona(\"Lucas\",18);\n",
    "Persona p2 = p1;\n",
    "//Persona p2 = new Persona(\"Lucas\",18);\n",
    "Persona p3 = new Persona(\"Luis\",19);\n",
    "System.out.println(p1.equals(p2));\n",
    "System.out.println(p1.equals(p3));\n",
    "\n",
    "System.out.println(p1.hashCode());\n",
    "System.out.println(p2.hashCode());"
   ]
  },
  {
   "cell_type": "code",
   "execution_count": 53,
   "metadata": {},
   "outputs": [
    {
     "name": "stdout",
     "output_type": "stream",
     "text": [
      "true\r\n"
     ]
    }
   ],
   "source": [
    "int numero = 2;\n",
    "int num = 2;\n",
    "System.out.println(numero == num)"
   ]
  },
  {
   "cell_type": "code",
   "execution_count": 58,
   "metadata": {},
   "outputs": [
    {
     "name": "stdout",
     "output_type": "stream",
     "text": [
      "true\n",
      "73771404\n",
      "73771404\n",
      "true\n"
     ]
    }
   ],
   "source": [
    "String nombre = \"Lucas\";\n",
    "String nom = \"Lucas\";\n",
    "System.out.println(nombre == nom);\n",
    "System.out.println(nombre.hashCode());\n",
    "System.out.println(nom.hashCode());\n",
    "System.out.println(nom.equals(nombre));"
   ]
  },
  {
   "cell_type": "code",
   "execution_count": 59,
   "metadata": {},
   "outputs": [
    {
     "name": "stdout",
     "output_type": "stream",
     "text": [
      "true\r\n"
     ]
    }
   ],
   "source": [
    "int danio = 10;\n",
    "System.out.println(danio == 10)"
   ]
  },
  {
   "cell_type": "markdown",
   "metadata": {},
   "source": [
    "### Clases abstractas.\n",
    "- Una clase abstracta es una clase que no se puede instanciar, pero si heredar. También, se pueden definir \n",
    "constructores. Se utilizan para englobar clases de diferentes tipos, pero con aspectos comunes. Se pueden \n",
    "definir métodos sin implementar y obligar a las subclases a implementarlos.\n",
    "- Por ejemplo, podemos tener una clase Figura, que representa una figura general, y subclases con figuras \n",
    "concretas (Triangulo, Circulo...). \n",
    "- Podemos establecer métodos comunes como dibujar, que sin conocer el \n",
    "tipo de figura, sea capaz de dibujarla. Pero para que esto funcione correctamente, cada figura concreta \n",
    "debe implementar su versión particular de dibujar.\n",
    "Si añadimos el calificador abstract después del calificativo public del método, le convertimos en abstracto \n",
    "y no hace falta que lo implementemos, basta con definirlo. Si añadimos abstract después del calificativo \n",
    "public de la clase, la convertimos en clase abstracta; esta acción es obligatoria si algún método es \n",
    "abstracto\n",
    "\n",
    "- ⚠️UNA CLASE PUEDE SER ABSTRACTA SIN TENER MÉTODOS ABSTRACTOS ⚠️"
   ]
  },
  {
   "cell_type": "markdown",
   "metadata": {},
   "source": [
    "- En el siguiente ejemplo partimos de una clase FormaGeométrica  que presenta dos métodos abstractos,\n",
    "calcularArea() y calcularPerímetro(). Estos métodos serán implementados en las clases hijas (Triángulo y Elipse)"
   ]
  },
  {
   "cell_type": "code",
   "execution_count": 79,
   "metadata": {},
   "outputs": [],
   "source": [
    "public abstract class FormaGeometrica{\n",
    "    String tipo;\n",
    "    FormaGeometrica(String tipo)\n",
    "    {\n",
    "        this.tipo = tipo;\n",
    "    }\n",
    "\n",
    "    public String getTipo() {\n",
    "        return tipo;\n",
    "    }\n",
    "\n",
    "    public void setTipo(String tipo) {\n",
    "        this.tipo = tipo;\n",
    "    }\n",
    "\n",
    "    \n",
    "    \n",
    "    /**\n",
    "     * @return\n",
    "     * Los métodos calcularArea y calcularPerimetro son métodos abstractos ya que  en función de la forma\n",
    "     * geométrica, se calculara de una manera o de otra. No obstante, todas las figuras geometricas presentarán un area \n",
    "     * y un perímetro, pero su calculo variará. Por eso son métodos abstractos\n",
    "     */\n",
    "    abstract double calcularArea();\n",
    "\n",
    "    abstract double calcularPerimetro();\n",
    "    \n",
    "   \n",
    "\n",
    "}"
   ]
  },
  {
   "cell_type": "code",
   "execution_count": 80,
   "metadata": {},
   "outputs": [],
   "source": [
    "public class TrianguloEquilatero extends FormaGeometrica\n",
    "{\n",
    "    double base;\n",
    "    double altura;\n",
    "    double lado;\n",
    "\n",
    "    TrianguloEquilatero(String tipo, double base, double altura, double lado)\n",
    "    {\n",
    "        super(tipo);\n",
    "        this.base = base;\n",
    "        this.altura = altura;\n",
    "        this.lado = lado;\n",
    "        \n",
    "    }\n",
    "\n",
    "    public double getBase() {\n",
    "        return base;\n",
    "    }\n",
    "    public void setBase(double base) {\n",
    "        this.base = base;\n",
    "    }\n",
    "    public double getAltura() {\n",
    "        return altura;\n",
    "    }\n",
    "    public void setAltura(double altura) {\n",
    "        this.altura = altura;\n",
    "    }\n",
    "    public double getLado() {\n",
    "        return lado;\n",
    "    }\n",
    "    public void setLado(double lado) {\n",
    "        this.lado = lado;\n",
    "    }\n",
    "    \n",
    "\n",
    "    // Método para calcular area y perimetro. Implementamos los métodos abstractos\n",
    "    @Override\n",
    "    double calcularArea()\n",
    "    {\n",
    "     return (base * altura) / 2;\n",
    "    }\n",
    "\n",
    "    @Override\n",
    "    double calcularPerimetro()\n",
    "    {\n",
    "        return 3 * lado;\n",
    "    }\n",
    "\n",
    "   \n",
    "  \n",
    "}"
   ]
  },
  {
   "cell_type": "code",
   "execution_count": 81,
   "metadata": {},
   "outputs": [],
   "source": [
    "public class Elipse extends FormaGeometrica {\n",
    "   \n",
    "    double semiejeMayor;\n",
    "    double semiejeMenor;\n",
    "\n",
    " \n",
    "    public Elipse(String tipo, double semiejeMayor, double semiejeMenor) {\n",
    "        super(tipo);\n",
    "        this.semiejeMayor = semiejeMayor;\n",
    "        this.semiejeMenor = semiejeMenor;\n",
    "    }\n",
    "\n",
    "    // Método para calcular el perímetro de la elipse. Implementamos el método abstracto\n",
    "    @Override\n",
    "    public double calcularPerimetro() \n",
    "    {\n",
    "        // Utilizando la fórmula de Ramanujan\n",
    "        double perimetro = Math.PI * (3 * (semiejeMayor + semiejeMenor) - Math.sqrt((3 * semiejeMayor + semiejeMenor) * (semiejeMayor + 3 * semiejeMenor)));\n",
    "        return perimetro;\n",
    "    }\n",
    "    \n",
    "    @Override\n",
    "    public double calcularArea()\n",
    "    {\n",
    "        return Math.PI * semiejeMayor * semiejeMenor;\n",
    "    }\n",
    "\n",
    "}\n"
   ]
  },
  {
   "cell_type": "markdown",
   "metadata": {},
   "source": [
    "## ⚠️IMPORTANTE⚠️\n",
    "¡¡¡No podemos instanciar las  clases abstractas!!!!\n",
    "- La siguiente línea da error"
   ]
  },
  {
   "cell_type": "code",
   "execution_count": 82,
   "metadata": {},
   "outputs": [
    {
     "ename": "CompilationException",
     "evalue": "",
     "output_type": "error",
     "traceback": [
      "\u001b[1m\u001b[30m|   \u001b[1m\u001b[30mFormaGeometrica figura = \u001b[0m\u001b[1m\u001b[30m\u001b[41mnew FormaGeometrica()\u001b[0m\u001b[1m\u001b[30m;\u001b[0m",
      "\u001b[1m\u001b[31mFormaGeometrica is abstract; cannot be instantiated\u001b[0m",
      ""
     ]
    }
   ],
   "source": [
    "FormaGeometrica figura = new FormaGeometrica();"
   ]
  },
  {
   "cell_type": "markdown",
   "metadata": {},
   "source": [
    "## Ejemplo"
   ]
  },
  {
   "cell_type": "code",
   "execution_count": 83,
   "metadata": {},
   "outputs": [
    {
     "name": "stdout",
     "output_type": "stream",
     "text": [
      "[*]Calculando perímetros....[*]\n",
      "El área del triángulo es: 1.5\n",
      "El área de la elipse es: 628.3185307179587\n",
      "[*]Calculando áreas....[*]\n",
      "El perímetro del triángulo es: 6.0\n",
      "El perímetro de la elipse es: 96.88421097671288\n"
     ]
    }
   ],
   "source": [
    "TrianguloEquilatero triangulo = new TrianguloEquilatero(\"TrianguloEq\",3 ,1 , 2);\n",
    "Elipse elipse = new Elipse(\"Elipse\", 10,20);\n",
    "\n",
    "\n",
    "System.out.println(\"[*]Calculando perímetros....[*]\");\n",
    "System.out.println(\"El área del triángulo es: \"+triangulo.calcularArea());\n",
    "System.out.println(\"El área de la elipse es: \"+elipse.calcularArea());\n",
    "\n",
    "System.out.println(\"[*]Calculando áreas....[*]\");\n",
    "System.out.println(\"El perímetro del triángulo es: \"+ triangulo.calcularPerimetro());\n",
    "System.out.println(\"El perímetro de la elipse es: \" + elipse.calcularPerimetro());\n"
   ]
  },
  {
   "cell_type": "markdown",
   "metadata": {},
   "source": [
    "### Arraylist\n"
   ]
  },
  {
   "cell_type": "code",
   "execution_count": 18,
   "metadata": {},
   "outputs": [],
   "source": [
    "import java.util.ArrayList;\n",
    "\n",
    "class Persona {\n",
    "    private String nombre;\n",
    "    private int edad;\n",
    "\n",
    "    public Persona(String nombre, int edad) {\n",
    "        this.nombre = nombre;\n",
    "        this.edad = edad;\n",
    "    }\n",
    "\n",
    "    public String getNombre() {\n",
    "        return nombre;\n",
    "    }\n",
    "\n",
    "    public void setNombre(String nombre) {\n",
    "        this.nombre = nombre;\n",
    "    }\n",
    "\n",
    "    public int getEdad() {\n",
    "        return edad;\n",
    "    }\n",
    "\n",
    "    public void setEdad(int edad) {\n",
    "        this.edad = edad;\n",
    "    }\n",
    "}"
   ]
  },
  {
   "cell_type": "code",
   "execution_count": 21,
   "metadata": {},
   "outputs": [
    {
     "name": "stdout",
     "output_type": "stream",
     "text": [
      "Tamaño de la lista: 3\n",
      "Información de la primera persona: Nombre - Juan, Edad - 25\n",
      "Nombre: Juan, Edad: 25\n",
      "Nombre: María, Edad: 30\n",
      "Nombre: Carlos, Edad: 22\n",
      "Lista después de eliminar una persona:\n",
      "Nombre: Juan, Edad: 25\n",
      "Nombre: Carlos, Edad: 22\n"
     ]
    }
   ],
   "source": [
    "\n",
    "\n",
    "// Crear un ArrayList de Personas\n",
    "ArrayList<Persona> listaPersonas = new ArrayList<>();\n",
    "\n",
    "// Agregar personas a la lista utilizando add\n",
    "listaPersonas.add(new Persona(\"Juan\", 25));\n",
    "listaPersonas.add(new Persona(\"María\", 30));\n",
    "listaPersonas.add(new Persona(\"Carlos\", 22));\n",
    "\n",
    "// Obtener el tamaño de la lista utilizando size\n",
    "System.out.println(\"Tamaño de la lista: \" + listaPersonas.size());\n",
    "\n",
    "// Obtener y mostrar la información de una persona utilizando get\n",
    "Persona persona1 = listaPersonas.get(0);\n",
    "System.out.println(\"Información de la primera persona: Nombre - \" + persona1.getNombre() + \", Edad - \" + persona1.getEdad());\n",
    "\n",
    "// Iterar sobre la lista e imprimir la información de cada persona\n",
    "for (Persona persona : listaPersonas) {\n",
    "    System.out.println(\"Nombre: \" + persona.getNombre() + \", Edad: \" + persona.getEdad());\n",
    "}\n",
    "\n",
    "// Eliminar una persona de la lista utilizando remove\n",
    "listaPersonas.remove(1);\n",
    "\n",
    "// Iterar nuevamente para mostrar la lista después de eliminar una persona\n",
    "System.out.println(\"Lista después de eliminar una persona:\");\n",
    "for (Persona persona : listaPersonas) {\n",
    "    System.out.println(\"Nombre: \" + persona.getNombre() + \", Edad: \" + persona.getEdad());\n",
    "}\n",
    "\n"
   ]
  }
 ],
 "metadata": {
  "kernelspec": {
   "display_name": "Java",
   "language": "java",
   "name": "java"
  },
  "language_info": {
   "codemirror_mode": "java",
   "file_extension": ".jshell",
   "mimetype": "text/x-java-source",
   "name": "Java",
   "pygments_lexer": "java",
   "version": "19.0.2+7-44"
  }
 },
 "nbformat": 4,
 "nbformat_minor": 4
}
