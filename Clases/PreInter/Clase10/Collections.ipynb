{
 "cells": [
  {
   "cell_type": "markdown",
   "metadata": {},
   "source": [
    "### Primera clase de Collection (Arraylist)\n",
    "- Collection: https://docs.oracle.com/javase/8/docs/api/java/util/Collection.html\n",
    "- Arraylist: https://docs.oracle.com/javase/8/docs/api/java/util/ArrayList.html"
   ]
  },
  {
   "cell_type": "code",
   "execution_count": 1,
   "metadata": {},
   "outputs": [],
   "source": [
    "public class Persona\n",
    "{ \n",
    "    private String nif;\n",
    "    private String nombre;\n",
    "    private int edad;\n",
    "    \n",
    "    public Persona(String nif, String nombre, int edad) \n",
    "    {\n",
    "        this.nif = nif;\n",
    "        this.nombre = nombre;\n",
    "        this.edad = edad;\n",
    "    }\n",
    "    \n",
    "    public Persona(String nif) \n",
    "    {\n",
    "        this.nif = nif;\n",
    "    }\n",
    "\n",
    "    public String getNif()\n",
    "    {\n",
    "        return nif;\n",
    "    }\n",
    "    \n",
    "    @Override\n",
    "    public String toString()\n",
    "    {\n",
    "        StringBuilder sb = new StringBuilder();\n",
    "        sb.append(\"NIF: \")\n",
    "          .append(nif)\n",
    "          .append(\" Nombre: \")\n",
    "          .append(nombre)\n",
    "          .append(\" Edad: \")\n",
    "          .append(edad);\n",
    "        return sb.toString();\n",
    "    }\n",
    "    \n",
    "    @Override\n",
    "    public boolean equals(Object obj) //Upcasting, el objeto que recibe lo vemos como un Objeto\n",
    "    {\n",
    "        if(obj instanceof Persona) //Si la instancia del objeto es una Persona...\n",
    "        {\n",
    "            Persona p = (Persona) obj;\n",
    "            //Hacemos un downcasting (explícito) y bajamos el inyerfaz\n",
    "            if (nif.equals(p.getNif())) //Llama al equals de String, que funciona correctamente\n",
    "                return true;\n",
    "            else\n",
    "                return false;\n",
    "        }\n",
    "        else\n",
    "            return false;\n",
    "    }\n",
    "}"
   ]
  },
  {
   "cell_type": "code",
   "execution_count": 2,
   "metadata": {},
   "outputs": [
    {
     "name": "stdout",
     "output_type": "stream",
     "text": [
      "true\r\n"
     ]
    }
   ],
   "source": [
    "Persona p1 = new Persona(\"123\",\"Lucas\",\"25\");\n",
    "Persona p2 = new Persona(\"123\",\"luis\",26);\n",
    "\n",
    "System.out.println(p1.equals(p2));"
   ]
  },
  {
   "cell_type": "markdown",
   "metadata": {},
   "source": [
    "### Ejemplo de ArrayList"
   ]
  },
  {
   "cell_type": "code",
   "execution_count": 8,
   "metadata": {},
   "outputs": [
    {
     "name": "stdout",
     "output_type": "stream",
     "text": [
      "NIF: 123 Nombre: Lucas Edad: 22\n",
      "123\n"
     ]
    }
   ],
   "source": [
    "import java.util.ArrayList;\n",
    "import java.util.List;\n",
    "import java.util.Collection;\n",
    "\n",
    "List personas = new ArrayList();\n",
    "personas.add(new Persona(\"123\",\"Lucas\",22));\n",
    "\n",
    "System.out.println(personas.get(0).toString());\n",
    "Persona p1 = (Persona)personas.get(0);\n",
    "System.out.println(p1.getNif());\n",
    "\n",
    "\n",
    "\n",
    "\n"
   ]
  },
  {
   "cell_type": "code",
   "execution_count": 15,
   "metadata": {},
   "outputs": [
    {
     "name": "stdout",
     "output_type": "stream",
     "text": [
      "true\n",
      "[NIF: 22222A Nombre: Miguel Edad: 33, NIF: 44444A Nombre: Lucas Edad: 23, NIF: 33333A Nombre: Jaime Edad: 28]\n",
      "1.- NIF: 22222A Nombre: Miguel Edad: 33\n",
      "1.- NIF: 44444A Nombre: Lucas Edad: 23\n",
      "1.- NIF: 33333A Nombre: Jaime Edad: 28\n",
      "----------------\n",
      "1.- NIF: 22222A Nombre: Miguel Edad: 33\n",
      "1.- NIF: 44444A Nombre: Lucas Edad: 23\n",
      "1.- NIF: 33333A Nombre: Jaime Edad: 28\n",
      "1.- Hola\n",
      "1.- 10\n",
      "NIF: 22222A Nombre: Miguel Edad: 33\n",
      "---------------\n",
      "1.- 11111A\n",
      "1.- 22222A\n",
      "1.- 33333A\n"
     ]
    }
   ],
   "source": [
    "import java.util.ArrayList;\n",
    "import java.util.List;\n",
    "import java.util.Collection;\n",
    "\n",
    "\n",
    "List personas = new ArrayList(); \n",
    "\n",
    "personas.add(new Persona(\"11111A\", \"Luis\", 22));\n",
    "personas.add(new Persona(\"22222A\", \"Miguel\", 33));\n",
    "personas.add(new Persona(\"33333A\", \"Jaime\", 28));\n",
    "\n",
    "Persona p = new Persona(\"44444A\", \"Lucas\", 23);\n",
    "personas.add(p);\n",
    "\n",
    "personas.add(new Persona(\"33333A\", \"Jaime\", 28));\n",
    "\n",
    "System.out.println(personas.contains(new Persona(\"11111A\")));\n",
    "personas.remove(0);//remove puede borrar a partir del indice\n",
    "personas.remove(new Persona(\"33333A\", \"Jaime\", 28));//Tb puede borrar a partir de un obj\n",
    "\n",
    "\n",
    "//p = personas.get(2);\n",
    "\n",
    "\n",
    "//p = (Persona) personas.get(2);   \n",
    "System.out.println(personas);\n",
    "\n",
    "\n",
    "for(int i=0;i<personas.size();i++)\n",
    "    \n",
    "    System.out.println(\"1.- \" + personas.get(i)); \n",
    "    \n",
    "\n",
    "\n",
    "System.out.println(\"----------------\");\n",
    "\n",
    "//Como la lista no tiene restriccion de tipo de objetos que alberga, puedo\n",
    "// meter Strings, Integers... Coches..\n",
    "personas.add(\"Hola\");      \n",
    "personas.add(Integer.valueOf(10));\n",
    "\n",
    "for(int i=0;i<personas.size();i++)\n",
    "    System.out.println(\"1.- \" + personas.get(i));\n",
    "\n",
    "\n",
    "List<Persona> personasTipo = new ArrayList<Persona>();\n",
    "personasTipo.add(new Persona(\"11111A\", \"Luis\", 22));\n",
    "personasTipo.add(new Persona(\"22222A\", \"Miguel\", 33));\n",
    "personasTipo.add(new Persona(\"33333A\", \"Jaime\", 28));\n",
    "//personasTipo.add(\"Hola\") esta linea da error, no podemos añadir otra cosa\n",
    "// que no sean personas\n",
    "\n",
    "\n",
    "p = personasTipo.get(1);  //No hace falta Downcasting al estar tipificada la colleción.\n",
    "System.out.println(p.toString());\n",
    "System.out.println(\"---------------\");\n",
    "\n",
    "for(int i=0;i<personasTipo.size();i++)\n",
    "    System.out.println(\"1.- \" + personasTipo.get(i).getNif());\n"
   ]
  },
  {
   "cell_type": "markdown",
   "metadata": {},
   "source": [
    "### LinkedList\n",
    "https://docs.oracle.com/javase/8/docs/api/java/util/LinkedList.html"
   ]
  },
  {
   "cell_type": "markdown",
   "metadata": {},
   "source": []
  },
  {
   "cell_type": "code",
   "execution_count": 104,
   "metadata": {},
   "outputs": [
    {
     "name": "stdout",
     "output_type": "stream",
     "text": [
      "true\n",
      "[NIF: 22222A Nombre: Miguel Edad: 33, NIF: 44444A Nombre: Lucas Edad: 23, NIF: 33333A Nombre: Jaime Edad: 28]\n",
      "1.- NIF: 22222A Nombre: Miguel Edad: 33\n",
      "1.- NIF: 44444A Nombre: Lucas Edad: 23\n",
      "1.- NIF: 33333A Nombre: Jaime Edad: 28\n",
      "----------------\n",
      "1.- NIF: 22222A Nombre: Miguel Edad: 33\n",
      "1.- NIF: 44444A Nombre: Lucas Edad: 23\n",
      "1.- NIF: 33333A Nombre: Jaime Edad: 28\n",
      "1.- Hola\n",
      "1.- 10\n",
      "NIF: 22222A Nombre: Miguel Edad: 33\n",
      "---------------\n",
      "1.- NIF: 11111A Nombre: Luis Edad: 22\n",
      "1.- NIF: 22222A Nombre: Miguel Edad: 33\n",
      "1.- NIF: 33333A Nombre: Jaime Edad: 28\n"
     ]
    }
   ],
   "source": [
    "List<Persona> lista = new LinkedList<Persona>();\n",
    "\n",
    "Persona p = new Persona(\"44444A\", \"Lucas\", 23);\n",
    "lista.add(p);\n",
    "lista.add(new Persona(\"44444A\", \"Lucas\", 23));\n",
    "lista.add(0, new Persona(\"11111A\", \"Miguel\", 33));\n",
    "\n",
    "lista.remove(2);\n",
    "System.out.println(lista);\n",
    "\n",
    "//Si quisiésemos ejecutar métodos específicos de LinkedList...\n",
    "LinkedList<Persona> listaLL = (LinkedList) lista;\n",
    "Persona p1 = listaLL.getFirst();\n",
    "Persona p2 = listaLL.getLast();"
   ]
  },
  {
   "cell_type": "markdown",
   "metadata": {},
   "source": [
    "### HashSet\n",
    "- https://docs.oracle.com/javase/8/docs/api/java/util/HashSet.html\n"
   ]
  },
  {
   "cell_type": "markdown",
   "metadata": {},
   "source": [
    "### Ejemplo 1"
   ]
  },
  {
   "cell_type": "code",
   "execution_count": 22,
   "metadata": {},
   "outputs": [
    {
     "name": "stdout",
     "output_type": "stream",
     "text": [
      "Elementos en el HashSet: [uno, dos, tres]\n",
      "Resultado de agregar 'hola' nuevamente: false\n"
     ]
    }
   ],
   "source": [
    "HashSet<String> hashSet = new HashSet<String>();\n",
    "\n",
    "// Agregar elementos al HashSet\n",
    "hashSet.add(\"uno\");\n",
    "hashSet.add(\"dos\");\n",
    "hashSet.add(\"tres\");\n",
    "\n",
    "// Intentar agregar un elemento duplicado\n",
    "boolean resultado = hashSet.add(\"uno\"); // No se agregará porque ya está presente\n",
    "\n",
    "// Imprimir el conjunto después de intentar agregar un duplicado\n",
    "System.out.println(\"Elementos en el HashSet: \" + hashSet);\n",
    "System.out.println(\"Resultado de agregar 'hola' nuevamente: \" + resultado);"
   ]
  },
  {
   "cell_type": "markdown",
   "metadata": {},
   "source": [
    "### Ejemplo2"
   ]
  },
  {
   "cell_type": "code",
   "execution_count": 23,
   "metadata": {},
   "outputs": [
    {
     "name": "stdout",
     "output_type": "stream",
     "text": [
      "Elementos en el HashSet: [1, 2, 3]\n",
      "Resultado de agregar '1' nuevamente: false\n"
     ]
    }
   ],
   "source": [
    "HashSet<Integer> hashSet = new HashSet<>();\n",
    "\n",
    "// Agregar elementos al HashSet\n",
    "hashSet.add(1);\n",
    "hashSet.add(2);\n",
    "hashSet.add(3);\n",
    "\n",
    "// Intentar agregar un elemento duplicado\n",
    "boolean resultado = hashSet.add(1); // No se agregará porque ya está presente\n",
    "\n",
    "// Imprimir el conjunto después de intentar agregar un duplicado\n",
    "System.out.println(\"Elementos en el HashSet: \" + hashSet);\n",
    "System.out.println(\"Resultado de agregar '1' nuevamente: \" + resultado);"
   ]
  },
  {
   "cell_type": "code",
   "execution_count": 32,
   "metadata": {},
   "outputs": [
    {
     "name": "stdout",
     "output_type": "stream",
     "text": [
      "2255068\n",
      "2255068\n",
      "127893601\n",
      "156794594\n"
     ]
    }
   ],
   "source": [
    "String v1 = \"Hola\";\n",
    "String v2 = \"Hola\";\n",
    "System.out.println(v1.hashCode());\n",
    "System.out.println(v2.hashCode());\n",
    "Persona p1 = new Persona(\"123\",\"Lucas\",25);\n",
    "Persona p2 = new Persona(\"123\",\"Lucas\",25);\n",
    "System.out.println(p1.hashCode());\n",
    "System.out.println(p2.hashCode());"
   ]
  },
  {
   "cell_type": "markdown",
   "metadata": {},
   "source": [
    "### Ejemplo con Personas..."
   ]
  },
  {
   "cell_type": "code",
   "execution_count": 30,
   "metadata": {},
   "outputs": [
    {
     "name": "stdout",
     "output_type": "stream",
     "text": [
      "El resultado de almacenar p1 es: false\n",
      "El resultado de almacenar p2 es: true\n",
      "[NIF: 44444A Nombre: Lucas Edad: 23, NIF: 44444A Nombre: Lucas Edad: 23]\n"
     ]
    }
   ],
   "source": [
    "HashSet<Persona> personas = new HashSet();\n",
    "Persona p1 = new Persona(\"44444A\", \"Lucas\", 23);\n",
    "Persona p2 = new Persona(\"44444A\", \"Lucas\", 23);\n",
    "personas.add(p1);\n",
    "boolean resultado = personas.add(p1);\n",
    "System.out.println(\"El resultado de almacenar p1 es: \"+ resultado);\n",
    "\n",
    "boolean resultado = personas.add(p2);\n",
    "System.out.println(\"El resultado de almacenar p2 es: \"+ resultado);\n",
    "\n",
    "System.out.println(personas)\n"
   ]
  },
  {
   "cell_type": "code",
   "execution_count": 107,
   "metadata": {},
   "outputs": [
    {
     "name": "stdout",
     "output_type": "stream",
     "text": [
      "1672687694\n",
      "1836368456\n",
      "[NIF: 44444A Nombre: Lucas Edad: 23, NIF: 44444A Nombre: Lucas Edad: 23]\n"
     ]
    }
   ],
   "source": [
    "\n",
    "Collection miCollection = new HashSet();\n",
    "HashSet miCollection = new HashSet();\n",
    "\n",
    "Persona p1 = new Persona(\"44444A\", \"Lucas\", 23);\n",
    "Persona p2 = new Persona(\"44444A\", \"Lucas\", 23);\n",
    "\n",
    "miCollection.add(p1);\n",
    "miCollection.add(p2);\n",
    "\n",
    "System.out.println(p1.hashCode());\n",
    "System.out.println(p2.hashCode());\n",
    "//miCollection.add(p1);\n",
    "\n",
    "System.out.println(miCollection);"
   ]
  },
  {
   "cell_type": "markdown",
   "metadata": {},
   "source": [
    "### Repaso de Equals y hashCode()"
   ]
  },
  {
   "cell_type": "code",
   "execution_count": 108,
   "metadata": {},
   "outputs": [
    {
     "name": "stdout",
     "output_type": "stream",
     "text": [
      "true\n",
      "2255068\n",
      "2255068\n",
      "true\n"
     ]
    }
   ],
   "source": [
    "String v1 = \"Hola\";\n",
    "String v2 = \"Hola\";\n",
    "System.out.println(v1 == v2);\n",
    "System.out.println(v1.hashCode());\n",
    "System.out.println(v2.hashCode());\n",
    "System.out.println(v1.equals(v2));\n",
    "\n",
    "\n"
   ]
  },
  {
   "cell_type": "markdown",
   "metadata": {},
   "source": [
    "### Ejemplo con personas\n",
    "\n",
    "- Hacer ejemplo de los hashcode de personas y de nifs. "
   ]
  },
  {
   "cell_type": "markdown",
   "metadata": {},
   "source": [
    "### Modificando la clase persona..."
   ]
  },
  {
   "cell_type": "code",
   "execution_count": 33,
   "metadata": {},
   "outputs": [],
   "source": [
    "public class Persona\n",
    "{ \n",
    "    private String nif;\n",
    "    private String nombre;\n",
    "    private int edad;\n",
    "    \n",
    "    public Persona(String nif, String nombre, int edad) \n",
    "    {\n",
    "        this.nif = nif;\n",
    "        this.nombre = nombre;\n",
    "        this.edad = edad;\n",
    "    }\n",
    "    \n",
    "    public Persona(String nif) \n",
    "    {\n",
    "        this.nif = nif;\n",
    "    }\n",
    "\n",
    "    public String getNif()\n",
    "    {\n",
    "        return nif;\n",
    "    }\n",
    "    \n",
    "    @Override\n",
    "    public String toString()\n",
    "    {\n",
    "        StringBuilder sb = new StringBuilder();\n",
    "        sb.append(\"NIF: \")\n",
    "          .append(nif)\n",
    "          .append(\" Nombre: \")\n",
    "          .append(nombre)\n",
    "          .append(\" Edad: \")\n",
    "          .append(edad);\n",
    "        return sb.toString();\n",
    "    }\n",
    "    \n",
    "    @Override\n",
    "    public int hashCode()\n",
    "    {\n",
    "        return nif.hashCode();\n",
    "    }\n",
    "    \n",
    "    @Override\n",
    "    public boolean equals(Object obj) //Upcasting, el objeto que recibe lo vemos como un Objeto\n",
    "    {\n",
    "        if(obj instanceof Persona) //Si la instancia del objeto es una Persona...\n",
    "        {\n",
    "            Persona p = (Persona) obj; //Hacemos un downcasting (explícito) y bajamos el inyerfaz\n",
    "            if (nif.equals(p.getNif())) //Llama al equals de String, que funciona correctamente\n",
    "                return true;\n",
    "            else\n",
    "                return false;\n",
    "        }\n",
    "        else\n",
    "            return false;\n",
    "    }\n",
    "}"
   ]
  },
  {
   "cell_type": "code",
   "execution_count": 34,
   "metadata": {},
   "outputs": [
    {
     "name": "stdout",
     "output_type": "stream",
     "text": [
      "48690\n",
      "48690\n"
     ]
    }
   ],
   "source": [
    "Persona p1 = new Persona(\"123\",\"Lucas\",25);\n",
    "Persona p2= new Persona(\"123\",\"Lucas\",25);\n",
    "System.out.println(p1.hashCode());\n",
    "System.out.println(p2.hashCode());"
   ]
  },
  {
   "cell_type": "code",
   "execution_count": null,
   "metadata": {},
   "outputs": [],
   "source": []
  },
  {
   "cell_type": "markdown",
   "metadata": {},
   "source": [
    "### Ahora, cuando hemos modificado la clase persona..."
   ]
  },
  {
   "cell_type": "code",
   "execution_count": 35,
   "metadata": {},
   "outputs": [
    {
     "name": "stdout",
     "output_type": "stream",
     "text": [
      "1538339725\n",
      "1538339725\n",
      "[NIF: 44444A Nombre: Lucas Edad: 23]\n"
     ]
    }
   ],
   "source": [
    "\n",
    "Collection miCollection = new HashSet();\n",
    "HashSet miCollection = new HashSet();\n",
    "\n",
    "Persona p1 = new Persona(\"44444A\", \"Lucas\", 23);\n",
    "Persona p2 = new Persona(\"44444A\", \"Lucas\", 23);\n",
    "\n",
    "miCollection.add(p1);\n",
    "miCollection.add(p2);\n",
    "\n",
    "System.out.println(p1.hashCode());\n",
    "System.out.println(p2.hashCode());\n",
    "miCollection.add(p1);\n",
    "\n",
    "System.out.println(miCollection);"
   ]
  },
  {
   "cell_type": "markdown",
   "metadata": {},
   "source": [
    "### Iterator"
   ]
  },
  {
   "cell_type": "code",
   "execution_count": 112,
   "metadata": {},
   "outputs": [
    {
     "name": "stdout",
     "output_type": "stream",
     "text": [
      "22222A\n",
      "11111A\n",
      "33333A\n"
     ]
    }
   ],
   "source": [
    "Collection col = new LinkedList();\n",
    "col.add(new Persona(\"22222A\", \"Miguel\", 33));\n",
    "col.add(new Persona(\"11111A\", \"Luis\", 22));\n",
    "col.add(new Persona(\"33333A\", \"Jaime\", 28));\n",
    "Iterator it = col.iterator();\n",
    "while(it.hasNext())\n",
    "{\n",
    "    Object o = it.next();\n",
    "    Persona p = (Persona) o;\n",
    "    System.out.println(p.getNif());\n",
    "}"
   ]
  },
  {
   "cell_type": "code",
   "execution_count": 92,
   "metadata": {},
   "outputs": [
    {
     "name": "stdout",
     "output_type": "stream",
     "text": [
      "1538339725\n",
      "1538339725\n",
      "[NIF: 44444A Nombre: Lucas Edad: 23]\n",
      "44444A\n"
     ]
    }
   ],
   "source": [
    "Collection miCollection = new HashSet();\n",
    "HashSet miCollection = new HashSet();\n",
    "Persona p1 = new Persona(\"44444A\", \"Lucas\", 23);\n",
    "Persona p2 = new Persona(\"44444A\", \"Lucas\", 23);\n",
    "miCollection.add(p1);\n",
    "miCollection.add(p2);\n",
    "System.out.println(p1.hashCode());\n",
    "System.out.println(p2.hashCode());\n",
    "miCollection.add(p1);\n",
    "System.out.println(miCollection);\n",
    "\n",
    "\n",
    "Iterator it = miCollection.iterator();\n",
    "while(it.hasNext())\n",
    "{\n",
    "    Object o = it.next();\n",
    "    Persona p = (Persona) o;\n",
    "    System.out.println(p.getNif());\n",
    "}"
   ]
  },
  {
   "cell_type": "markdown",
   "metadata": {},
   "source": [
    "### Iterando con for each"
   ]
  },
  {
   "cell_type": "code",
   "execution_count": 113,
   "metadata": {},
   "outputs": [
    {
     "name": "stdout",
     "output_type": "stream",
     "text": [
      "22222A\n",
      "11111A\n",
      "33333A\n"
     ]
    }
   ],
   "source": [
    "Collection col = new LinkedList();\n",
    "col.add(new Persona(\"22222A\", \"Miguel\", 33));\n",
    "col.add(new Persona(\"11111A\", \"Luis\", 22));\n",
    "col.add(new Persona(\"33333A\", \"Jaime\", 28));\n",
    "\n",
    "for(Object o:col)\n",
    "{\n",
    "    Persona p = (Persona) o;\n",
    "    System.out.println(p.getNif());\n",
    "}"
   ]
  },
  {
   "cell_type": "code",
   "execution_count": 38,
   "metadata": {},
   "outputs": [
    {
     "name": "stdout",
     "output_type": "stream",
     "text": [
      "true\r\n"
     ]
    }
   ],
   "source": [
    "String salida = \"1\";\n",
    "System.out.println(\"1\" == salida);"
   ]
  },
  {
   "cell_type": "markdown",
   "metadata": {},
   "source": [
    "### Máximo, mínimo y media con Arraylist"
   ]
  },
  {
   "cell_type": "code",
   "execution_count": 117,
   "metadata": {},
   "outputs": [
    {
     "name": "stdout",
     "output_type": "stream",
     "text": [
      "ArrayList: [10, 5, 8, 15, 3]\n",
      "Máximo: 15\n",
      "Mínimo: 3\n",
      "Media: 8.2\n"
     ]
    }
   ],
   "source": [
    "ArrayList<Integer> numeros = new ArrayList<>();\n",
    "numeros.add(10);\n",
    "numeros.add(5);\n",
    "numeros.add(8);\n",
    "numeros.add(15);\n",
    "numeros.add(3);\n",
    "\n",
    "// Inicializar variables para máximo, mínimo y suma\n",
    "int maximo = Integer.MIN_VALUE;\n",
    "int minimo = Integer.MAX_VALUE;\n",
    "int suma = 0;\n",
    "for (int numero : numeros) {\n",
    "    // Calcular máximo\n",
    "    if (numero > maximo) {\n",
    "        maximo = numero;\n",
    "    }\n",
    "\n",
    "    // Calcular mínimo\n",
    "    if (numero < minimo) {\n",
    "        minimo = numero;\n",
    "    }\n",
    "\n",
    "    // Sumar los elementos\n",
    "    suma += numero;\n",
    "}\n",
    "\n",
    "// Calcular la media\n",
    "double media = (double) suma / numeros.size();\n",
    "\n",
    "// Mostrar resultados\n",
    "System.out.println(\"ArrayList: \" + numeros);\n",
    "System.out.println(\"Máximo: \" + maximo);\n",
    "System.out.println(\"Mínimo: \" + minimo);\n",
    "System.out.println(\"Media: \" + media);"
   ]
  },
  {
   "cell_type": "markdown",
   "metadata": {},
   "source": [
    "### compareTo()\n",
    "https://www.w3schools.com/java/ref_string_compareto.asp\n",
    "https://docs.oracle.com/javase/8/docs/api/java/lang/Comparable.html"
   ]
  },
  {
   "cell_type": "code",
   "execution_count": 83,
   "metadata": {},
   "outputs": [
    {
     "name": "stdout",
     "output_type": "stream",
     "text": [
      "1\r\n"
     ]
    }
   ],
   "source": [
    "String v1 = \"Holaa\";\n",
    "String v2 = \"Hola\";\n",
    "System.out.println(v1.compareTo(v2))"
   ]
  },
  {
   "cell_type": "markdown",
   "metadata": {},
   "source": [
    "### Treeset\n"
   ]
  },
  {
   "cell_type": "code",
   "execution_count": 95,
   "metadata": {},
   "outputs": [],
   "source": [
    "public class Persona implements Comparable\n",
    "{ \n",
    "    private String nif;\n",
    "    private String nombre;\n",
    "    private int edad;\n",
    "    \n",
    "    public Persona(String nif, String nombre, int edad) \n",
    "    {\n",
    "        this.nif = nif;\n",
    "        this.nombre = nombre;\n",
    "        this.edad = edad;\n",
    "    }\n",
    "    \n",
    "    public Persona(String nif) \n",
    "    {\n",
    "        this.nif = nif;\n",
    "    }\n",
    "\n",
    "    public String getNif()\n",
    "    {\n",
    "        return nif;\n",
    "    }\n",
    "    \n",
    "    @Override\n",
    "    public String toString()\n",
    "    {\n",
    "        StringBuilder sb = new StringBuilder();\n",
    "        sb.append(\"NIF: \")\n",
    "          .append(nif)\n",
    "          .append(\"\\nNombre: \")\n",
    "          .append(nombre)\n",
    "          .append(\"\\nEdad: \")\n",
    "          .append(edad);\n",
    "        return sb.toString();\n",
    "    }\n",
    "    \n",
    "    @Override\n",
    "    public boolean equals(Object obj) //Upcasting, el objeto que recibe lo vemos como un Objeto\n",
    "    {\n",
    "        if(obj instanceof Persona) //Si la instancia del objeto es una Persona...\n",
    "        {\n",
    "            Persona p = (Persona) obj; //Hacemos un downcasting (explícito) y bajamos el inyerfaz\n",
    "            if (nif.equals(p.getNif())) //Llama al equals de String, que funciona correctamente\n",
    "                return true;\n",
    "            else\n",
    "                return false;\n",
    "        }\n",
    "        else\n",
    "            return false;\n",
    "    }\n",
    "    \n",
    "    \n",
    "     // Definimos el criterio para el orden\n",
    "    @Override\n",
    "    public int compareTo(Object obj)\n",
    "    {\n",
    "        if(obj instanceof Persona) \n",
    "        {\n",
    "            Persona p = (Persona) obj;\n",
    "            return nif.compareTo(p.getNif()); \n",
    "        }\n",
    "        else\n",
    "            return +1;   \n",
    "    }\n",
    "\n",
    "  \n",
    "}"
   ]
  },
  {
   "cell_type": "markdown",
   "metadata": {},
   "source": [
    "### Ejemplo"
   ]
  },
  {
   "cell_type": "code",
   "execution_count": 75,
   "metadata": {},
   "outputs": [
    {
     "name": "stdout",
     "output_type": "stream",
     "text": [
      "[NIF: 22222A\n",
      "Nombre: Lucas\n",
      "Edad: 33, NIF: 33333A\n",
      "Nombre: Pepe\n",
      "Edad: 28, NIF: 44444A\n",
      "Nombre: Alvaro\n",
      "Edad: 22]\r\n"
     ]
    }
   ],
   "source": [
    "import java.util.TreeSet;\n",
    "import java.util.LinkedList;\n",
    "import java.util.List;\n",
    "import java.util.Collection;\n",
    "\n",
    "\n",
    "TreeSet personas = new TreeSet();\n",
    "\n",
    "personas.add(new Persona(\"44444A\", \"Alvaro\", 22));\n",
    "personas.add(new Persona(\"22222A\", \"Lucas\", 33));\n",
    "personas.add(new Persona(\"33333A\", \"Pepe\", 28));\n",
    "\n",
    "personas.add(new Persona(\"44444A\", \"Javier\", 38));\n",
    "\n",
    "System.out.println(personas);\n"
   ]
  },
  {
   "cell_type": "markdown",
   "metadata": {},
   "source": [
    "### Maps\n"
   ]
  },
  {
   "cell_type": "code",
   "execution_count": 85,
   "metadata": {},
   "outputs": [],
   "source": [
    "\n",
    "\n",
    "public class Coche \n",
    "{\n",
    "\tprivate String marca;\n",
    "\tprivate String modelo;\n",
    "\t\n",
    "\tpublic Coche(String marca, String modelo)\n",
    "\t{\n",
    "\t\tthis.marca = marca;\n",
    "\t\tthis.modelo  = modelo;\n",
    "\t}\n",
    "\t\n",
    "\tpublic String getMarca()\n",
    "\t{\n",
    "\t\treturn marca;\n",
    "\t}\n",
    "\n",
    "\tpublic String toString()\n",
    "\t{\n",
    "\t\treturn marca + \" (\" + modelo + \")\";\n",
    "\t}\n",
    "\t\n",
    "}\n",
    "\n"
   ]
  },
  {
   "cell_type": "code",
   "execution_count": 98,
   "metadata": {},
   "outputs": [],
   "source": [
    "public class Persona implements Comparable\n",
    "{ \n",
    "    private String nif;\n",
    "    private String nombre;\n",
    "    private int edad;\n",
    "    \n",
    "    public Persona(String nif, String nombre, int edad) \n",
    "    {\n",
    "        this.nif = nif;\n",
    "        this.nombre = nombre;\n",
    "        this.edad = edad;\n",
    "    }\n",
    "    \n",
    "    public Persona(String nif) \n",
    "    {\n",
    "        this.nif = nif;\n",
    "    }\n",
    "\n",
    "    public Persona(String nif, String nombre) \n",
    "    {\n",
    "        this.nif = nif;\n",
    "        this.nombre = nombre;\n",
    "    }    \n",
    "\n",
    "    public String getNif()\n",
    "    {\n",
    "        return nif;\n",
    "    }\n",
    "\n",
    "    public String getNombre()\n",
    "    {\n",
    "        return nombre;\n",
    "    }    \n",
    "    \n",
    "    @Override\n",
    "    public String toString()\n",
    "    {\n",
    "        StringBuilder sb = new StringBuilder();\n",
    "        sb.append(\"NIF: \")\n",
    "          .append(nif)\n",
    "          .append(\" - Nombre: \")\n",
    "          .append(nombre)\n",
    "          .append(\" - Edad: \")\n",
    "          .append(edad);\n",
    "        return sb.toString();\n",
    "    }\n",
    "    \n",
    "    @Override\n",
    "    public boolean equals(Object obj)   //Upcasting, el objeto que recibe lo vemos como un Objeto\n",
    "    {\n",
    "        if(obj instanceof Persona p)    //Si la instancia del objeto es una Persona...\n",
    "            return nif.equals(p.getNif());\n",
    "        else\n",
    "            return false;\n",
    "    }\n",
    "    // Podemos cambiar el criterio del hashcode...\n",
    "    @Override\n",
    "    public int hashCode()\n",
    "    {\n",
    "    \treturn nif.hashCode();\n",
    "    }\n",
    "\n",
    "    @Override\n",
    "    public int compareTo(Object obj)\n",
    "    {\n",
    "        int comparacion = +1;    //Cualquier objeto que no sea una Persona, mayor.\n",
    "        if(obj instanceof Persona p) \n",
    "        {\n",
    "            comparacion = nombre.compareTo(p.getNombre());\n",
    "            if(comparacion == 0)\n",
    "                comparacion = -1;   //Por ejemplo, podría ser +1, pero nunca 0.\n",
    "        }\n",
    "        return comparacion;\n",
    "    }\n",
    "\n",
    "}"
   ]
  },
  {
   "cell_type": "markdown",
   "metadata": {},
   "source": [
    "### App"
   ]
  },
  {
   "cell_type": "code",
   "execution_count": 111,
   "metadata": {},
   "outputs": [
    {
     "name": "stdout",
     "output_type": "stream",
     "text": [
      "{NIF: 33333A - Nombre: Jaime - Edad: 28=VW (Golf), NIF: 11113X - Nombre: Daniela - Edad: 28=Mini (Cooper), NIF: 22222A - Nombre: Cristina - Edad: 33=Audi (A3), NIF: 11111A - Nombre: Ana - Edad: 22=VW (Golf), NIF: 11112A - Nombre: Lara - Edad: 28=Seat (Ibiza)}\n",
      "\n",
      "El coche de 11111A es: VW (Golf)\n",
      "\n",
      "Existe 11112B: false\n",
      "\n",
      "Listado de Personas\n",
      "===============\n",
      "Jaime\n",
      "Daniela\n",
      "Cristina\n",
      "Ana\n",
      "Lara\n",
      "===============\n",
      "[*] Ahora con for each! [*]\n",
      "Jaime\n",
      "Daniela\n",
      "Cristina\n",
      "Ana\n",
      "Lara\n",
      "\n",
      "Listado de coches\n",
      "===============\n",
      "VW\n",
      "Mini\n",
      "Audi\n",
      "VW\n",
      "Seat\n",
      "===============\n",
      "[*] Ahora con for each! [*]\n",
      "VW\n",
      "Mini\n",
      "Audi\n",
      "VW\n",
      "Seat\n",
      "\n",
      "Listado de los dos objetos (clave+valor) del Map\n",
      "===============\n",
      "- La clave: NIF: 33333A - Nombre: Jaime - Edad: 28 - El valor: VW (Golf)\n",
      "- La clave: NIF: 11113X - Nombre: Daniela - Edad: 28 - El valor: Mini (Cooper)\n",
      "- La clave: NIF: 22222A - Nombre: Cristina - Edad: 33 - El valor: Audi (A3)\n",
      "- La clave: NIF: 11111A - Nombre: Ana - Edad: 22 - El valor: VW (Golf)\n",
      "- La clave: NIF: 11112A - Nombre: Lara - Edad: 28 - El valor: Seat (Ibiza)\n"
     ]
    }
   ],
   "source": [
    "import java.util.HashMap;\n",
    "import java.util.TreeMap;\n",
    "import java.util.Set;\n",
    "import java.util.Collection;\n",
    "import java.util.Iterator;\n",
    "import java.util.Map;\n",
    "\n",
    "\n",
    "\n",
    "Map<Persona, Coche> personas;\n",
    "\n",
    "if(true)\n",
    "    personas = new HashMap<>();\n",
    "else\n",
    "    personas = new TreeMap<>();\n",
    "\n",
    "personas.put(new Persona(\"11111A\", \"Ana\", 22), new Coche(\"VW\", \"Golf\"));\n",
    "personas.put(new Persona(\"22222A\", \"Cristina\", 33), new Coche(\"Audi\", \"A3\"));\n",
    "personas.put(new Persona(\"33333A\", \"Jaime\", 28), new Coche(\"VW\", \"Golf\"));\n",
    "\n",
    "personas.put(new Persona(\"11112A\", \"Lara\", 28), new Coche(\"Seat\", \"Ibiza\"));\n",
    "personas.put(new Persona(\"11113X\", \"Daniela\", 28), new Coche(\"Mini\", \"Cooper\"));\n",
    "\n",
    "System.out.println(personas);\n",
    "\n",
    "Coche coche = (Coche) personas.get(new Persona(\"11111A\", \"Ana\"));\n",
    "\n",
    "System.out.println(\"\\nEl coche de 11111A es: \" + coche);\n",
    "\n",
    "System.out.println(\"\\nExiste 11112B: \" + personas.containsKey(new Persona(\"11112B\", \"Lara\")));        \n",
    "\n",
    "\n",
    "System.out.println(\"\\nListado de Personas\");\n",
    "System.out.println(\"===============\");\n",
    "Set<Persona> personasSet = personas.keySet();\n",
    "Iterator<Persona> itPersonas = personasSet.iterator();\n",
    "while(itPersonas.hasNext())\n",
    "{\n",
    "    Persona p = itPersonas.next();\n",
    "    System.out.println(p.getNombre());\n",
    "}\n",
    "System.out.println(\"===============\");\n",
    "\n",
    "System.out.println(\"[*] Ahora con for each! [*]\");\n",
    "//Trabajando con estructura for each\n",
    "for(Persona p : personas.keySet())\n",
    "    System.out.println(p.getNombre());\n",
    "\n",
    "System.out.println(\"\\nListado de coches\");\n",
    "System.out.println(\"===============\");\n",
    "Collection<Coche> coches = personas.values();\n",
    "Iterator<Coche> itCoches = coches.iterator();\n",
    "while(itCoches.hasNext())\n",
    "{\n",
    "    Coche c = itCoches.next();\n",
    "    System.out.println(c.getMarca());\n",
    "}\n",
    "\n",
    "System.out.println(\"===============\");\n",
    "\n",
    "System.out.println(\"[*] Ahora con for each! [*]\");\n",
    "//Trabajando con estructura for each\n",
    "for(Coche c : personas.values())\n",
    "    System.out.println(c.getMarca());\n",
    "\n",
    "\n",
    "System.out.println(\"\\nListado de los dos objetos (clave+valor) del Map\");\n",
    "System.out.println(\"===============\");\n",
    "for(Map.Entry<Persona, Coche> personasEntrySet : personas.entrySet())\n",
    "   System.out.println(\"- La clave: \" + personasEntrySet.getKey() + \" - El valor: \" + personasEntrySet.getValue());     \n"
   ]
  }
 ],
 "metadata": {
  "kernelspec": {
   "display_name": "Java",
   "language": "java",
   "name": "java"
  },
  "language_info": {
   "codemirror_mode": "java",
   "file_extension": ".jshell",
   "mimetype": "text/x-java-source",
   "name": "Java",
   "pygments_lexer": "java",
   "version": "19.0.2+7-44"
  }
 },
 "nbformat": 4,
 "nbformat_minor": 4
}
