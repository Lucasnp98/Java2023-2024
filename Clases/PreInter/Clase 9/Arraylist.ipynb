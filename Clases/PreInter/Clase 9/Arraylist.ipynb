{
 "cells": [
  {
   "cell_type": "markdown",
   "metadata": {},
   "source": [
    "### Primera clase de Collection (Arraylist)\n",
    "- Collection: https://docs.oracle.com/javase/8/docs/api/java/util/Collection.html\n",
    "- Arraylist: https://docs.oracle.com/javase/8/docs/api/java/util/ArrayList.html"
   ]
  },
  {
   "cell_type": "code",
   "execution_count": 2,
   "metadata": {},
   "outputs": [],
   "source": [
    "public class Persona\n",
    "{ \n",
    "    private String nif;\n",
    "    private String nombre;\n",
    "    private int edad;\n",
    "    \n",
    "    public Persona(String nif, String nombre, int edad) \n",
    "    {\n",
    "        this.nif = nif;\n",
    "        this.nombre = nombre;\n",
    "        this.edad = edad;\n",
    "    }\n",
    "    \n",
    "    public Persona(String nif) \n",
    "    {\n",
    "        this.nif = nif;\n",
    "    }\n",
    "\n",
    "    public String getNif()\n",
    "    {\n",
    "        return nif;\n",
    "    }\n",
    "    \n",
    "    @Override\n",
    "    public String toString()\n",
    "    {\n",
    "        StringBuilder sb = new StringBuilder();\n",
    "        sb.append(\"NIF: \")\n",
    "          .append(nif)\n",
    "          .append(\" Nombre: \")\n",
    "          .append(nombre)\n",
    "          .append(\" Edad: \")\n",
    "          .append(edad);\n",
    "        return sb.toString();\n",
    "    }\n",
    "    \n",
    "    @Override\n",
    "    public boolean equals(Object obj) //Upcasting, el objeto que recibe lo vemos como un Objeto\n",
    "    {\n",
    "        if(obj instanceof Persona) //Si la instancia del objeto es una Persona...\n",
    "        {\n",
    "            Persona p = (Persona) obj; //Hacemos un downcasting (explícito) y bajamos el inyerfaz\n",
    "            if (nif.equals(p.getNif())) //Llama al equals de String, que funciona correctamente\n",
    "                return true;\n",
    "            else\n",
    "                return false;\n",
    "        }\n",
    "        else\n",
    "            return false;\n",
    "    }\n",
    "}"
   ]
  },
  {
   "cell_type": "markdown",
   "metadata": {},
   "source": []
  },
  {
   "cell_type": "code",
   "execution_count": 22,
   "metadata": {},
   "outputs": [
    {
     "name": "stdout",
     "output_type": "stream",
     "text": [
      "true\n",
      "[NIF: 22222A Nombre: Miguel Edad: 33, NIF: 44444A Nombre: Lucas Edad: 23, NIF: 33333A Nombre: Jaime Edad: 28]\n",
      "1.- NIF: 22222A Nombre: Miguel Edad: 33\n",
      "1.- NIF: 44444A Nombre: Lucas Edad: 23\n",
      "1.- NIF: 33333A Nombre: Jaime Edad: 28\n",
      "----------------\n",
      "1.- NIF: 22222A Nombre: Miguel Edad: 33\n",
      "1.- NIF: 44444A Nombre: Lucas Edad: 23\n",
      "1.- NIF: 33333A Nombre: Jaime Edad: 28\n",
      "1.- Hola\n",
      "1.- 10\n"
     ]
    },
    {
     "ename": "CompilationException",
     "evalue": "",
     "output_type": "error",
     "traceback": [
      "\u001b[1m\u001b[30m|   \u001b[1m\u001b[30mpersonasTipo.add(\u001b[0m\u001b[1m\u001b[30m\u001b[41m\"Hola\"\u001b[0m\u001b[1m\u001b[30m);\u001b[0m",
      "\u001b[1m\u001b[31mincompatible types: java.lang.String cannot be converted to Persona\u001b[0m",
      ""
     ]
    }
   ],
   "source": [
    "import java.util.ArrayList;\n",
    "import java.util.List;\n",
    "import java.util.Collection;\n",
    "\n",
    "\n",
    "List personas = new ArrayList(); \n",
    "\n",
    "personas.add(new Persona(\"11111A\", \"Luis\", 22));\n",
    "personas.add(new Persona(\"22222A\", \"Miguel\", 33));\n",
    "personas.add(new Persona(\"33333A\", \"Jaime\", 28));\n",
    "\n",
    "Persona p = new Persona(\"44444A\", \"Lucas\", 23);\n",
    "personas.add(p);\n",
    "\n",
    "personas.add(new Persona(\"33333A\", \"Jaime\", 28));\n",
    "\n",
    "System.out.println(personas.contains(new Persona(\"11111A\")));\n",
    "\n",
    "personas.remove(0);\n",
    "personas.remove(new Persona(\"33333A\", \"Jaime\", 28));\n",
    "\n",
    "\n",
    "//p = personas.get(2);\n",
    "\n",
    "\n",
    "//p = (Persona) personas.get(2);   \n",
    "System.out.println(personas);\n",
    "\n",
    "for(int i=0;i<personas.size();i++)\n",
    "    System.out.println(\"1.- \" + personas.get(i));    \n",
    "\n",
    "System.out.println(\"----------------\");\n",
    "\n",
    "personas.add(\"Hola\");      \n",
    "personas.add(Integer.valueOf(10));\n",
    "\n",
    "for(int i=0;i<personas.size();i++)\n",
    "    System.out.println(\"1.- \" + personas.get(i));\n",
    "\n",
    "\n",
    "List<Persona> personasTipo = new ArrayList<Persona>();\n",
    "personasTipo.add(new Persona(\"11111A\", \"Luis\", 22));\n",
    "personasTipo.add(new Persona(\"22222A\", \"Miguel\", 33));\n",
    "personasTipo.add(new Persona(\"33333A\", \"Jaime\", 28));\n",
    "\n",
    "\n",
    "p = personasTipo.get(1);  //No hace falta Downcasting al estar tipificada la colleción.\n",
    "System.out.println(p.toString());\n",
    "System.out.println(\"---------------\");\n",
    "\n",
    "for(int i=0;i<personasTipo.size();i++)\n",
    "    System.out.println(\"1.- \" + personasTipo.get(i));\n"
   ]
  },
  {
   "cell_type": "code",
   "execution_count": null,
   "metadata": {},
   "outputs": [],
   "source": []
  }
 ],
 "metadata": {
  "kernelspec": {
   "display_name": "Java",
   "language": "java",
   "name": "java"
  },
  "language_info": {
   "codemirror_mode": "java",
   "file_extension": ".jshell",
   "mimetype": "text/x-java-source",
   "name": "Java",
   "pygments_lexer": "java",
   "version": "19.0.2+7-44"
  }
 },
 "nbformat": 4,
 "nbformat_minor": 4
}
