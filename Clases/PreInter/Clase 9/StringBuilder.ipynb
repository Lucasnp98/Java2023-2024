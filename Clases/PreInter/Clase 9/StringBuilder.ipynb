{
 "cells": [
  {
   "cell_type": "code",
   "execution_count": 34,
   "metadata": {},
   "outputs": [
    {
     "name": "stdout",
     "output_type": "stream",
     "text": [
      "abtrue12.5566\r\n"
     ]
    }
   ],
   "source": [
    "String s = \"a\";\n",
    "s += \"b\";\n",
    "s += true;\n",
    "s += 1;\n",
    "s += 2.5566;\n",
    "System.out.println(s);"
   ]
  },
  {
   "cell_type": "code",
   "execution_count": 35,
   "metadata": {},
   "outputs": [
    {
     "name": "stdout",
     "output_type": "stream",
     "text": [
      "abcde\r\n"
     ]
    }
   ],
   "source": [
    "StringBuilder sb = new StringBuilder();\n",
    "sb.append(\"a\");\n",
    "sb.append(\"b\");\n",
    "sb.append(\"c\");\n",
    "sb.append(\"d\");\n",
    "sb.append(\"e\");\n",
    "String s = sb.toString();\n",
    "System.out.println(s);"
   ]
  },
  {
   "cell_type": "code",
   "execution_count": 36,
   "metadata": {},
   "outputs": [
    {
     "name": "stdout",
     "output_type": "stream",
     "text": [
      "abcde\r\n"
     ]
    }
   ],
   "source": [
    "System.out.println(sb);"
   ]
  },
  {
   "cell_type": "code",
   "execution_count": 37,
   "metadata": {},
   "outputs": [],
   "source": [
    "s = \"a\" + 1;"
   ]
  },
  {
   "cell_type": "code",
   "execution_count": 39,
   "metadata": {},
   "outputs": [
    {
     "ename": "CompilationException",
     "evalue": "",
     "output_type": "error",
     "traceback": [
      "\u001b[1m\u001b[30m|   \u001b[1m\u001b[30mpublic String \u001b[0m\u001b[1m\u001b[30m\u001b[41mtoString\u001b[0m\u001b[1m\u001b[30m()\u001b[0m",
      "\u001b[1m\u001b[31mJShell method names must not match Object methods: getClass wait hashCode equals notifyAll toString notify\u001b[0m",
      ""
     ]
    }
   ],
   "source": [
    "@Override\n",
    "public String toString()\n",
    "{\n",
    "    return \"Nombre: \" + nombre + \" NIF: \" +\n",
    "     nif + \" Edad: \" + edad;\n",
    "}"
   ]
  },
  {
   "cell_type": "code",
   "execution_count": 24,
   "metadata": {},
   "outputs": [],
   "source": [
    "public class Persona\n",
    "{\n",
    "private String nombre;\n",
    "private String nif;\n",
    "private int edad;\n",
    "    \n",
    "\n",
    "\n",
    "Persona(String nombre, String nif, int edad)\n",
    "{\n",
    "    this.nombre = nombre;\n",
    "    this.nif = nif;\n",
    "    this.edad = edad;\n",
    "}\n",
    "@Override\n",
    "public String toString()\n",
    "{\n",
    "    StringBuilder sb = new StringBuilder(\"Nombre: \");\n",
    "    sb.append(nombre);\n",
    "    sb.append(\"NIF: \");\n",
    "    sb.append(nif);\n",
    "    sb.append(\" Edad: \"+ edad);\n",
    "    \n",
    "    return sb.toString();\n",
    "\n",
    "}\n",
    "}"
   ]
  },
  {
   "cell_type": "code",
   "execution_count": 40,
   "metadata": {},
   "outputs": [
    {
     "name": "stdout",
     "output_type": "stream",
     "text": [
      "Nombre: LucasNIF: 123 Edad: 25\r\n"
     ]
    }
   ],
   "source": [
    "Persona p = new Persona(\"Lucas\",\"123\",25);\n",
    "System.out.println(p.toString())"
   ]
  },
  {
   "cell_type": "code",
   "execution_count": 41,
   "metadata": {},
   "outputs": [
    {
     "name": "stdout",
     "output_type": "stream",
     "text": [
      "abcde\r\n"
     ]
    }
   ],
   "source": [
    "StringBuilder sb = new StringBuilder();\n",
    "sb.append(\"a\").append(\"b\").append(\"c\").append(\"d\").append(\"e\");\n",
    "String s = sb.toString();\n",
    "System.out.println(s);"
   ]
  },
  {
   "cell_type": "code",
   "execution_count": 42,
   "metadata": {},
   "outputs": [
    {
     "name": "stdout",
     "output_type": "stream",
     "text": [
      "abcde\r\n"
     ]
    }
   ],
   "source": [
    "StringBuilder sb = new StringBuilder();\n",
    "sb.append(\"a\")\n",
    "  .append(\"b\")\n",
    "  .append(\"c\")\n",
    "  .append(\"d\")\n",
    "  .append(\"e\");\n",
    "\n",
    "String s = sb.toString();\n",
    "System.out.println(s);"
   ]
  },
  {
   "cell_type": "code",
   "execution_count": 43,
   "metadata": {},
   "outputs": [
    {
     "name": "stdout",
     "output_type": "stream",
     "text": [
      "UC\r\n"
     ]
    }
   ],
   "source": [
    "StringBuilder sb = new StringBuilder();\n",
    "sb.append(\"Lucas\");\n",
    "System.out.println(sb.substring(1,3).toUpperCase());\n"
   ]
  },
  {
   "cell_type": "code",
   "execution_count": 11,
   "metadata": {},
   "outputs": [],
   "source": [
    "s = \"hola\";\n"
   ]
  },
  {
   "cell_type": "code",
   "execution_count": 45,
   "metadata": {},
   "outputs": [
    {
     "data": {
      "text/plain": [
       "abcde"
      ]
     },
     "execution_count": 45,
     "metadata": {},
     "output_type": "execute_result"
    }
   ],
   "source": [
    "s"
   ]
  },
  {
   "cell_type": "code",
   "execution_count": 44,
   "metadata": {},
   "outputs": [
    {
     "data": {
      "text/plain": [
       "B"
      ]
     },
     "execution_count": 44,
     "metadata": {},
     "output_type": "execute_result"
    }
   ],
   "source": [
    "s.toUpperCase().substring(1, 3).charAt(0)"
   ]
  },
  {
   "cell_type": "code",
   "execution_count": 14,
   "metadata": {},
   "outputs": [
    {
     "data": {
      "text/plain": [
       "O"
      ]
     },
     "execution_count": 14,
     "metadata": {},
     "output_type": "execute_result"
    }
   ],
   "source": [
    "s.toUpperCase()\n",
    " .substring(1, 3)\n",
    " .charAt(0);"
   ]
  },
  {
   "cell_type": "code",
   "execution_count": 30,
   "metadata": {},
   "outputs": [
    {
     "name": "stdout",
     "output_type": "stream",
     "text": [
      "5\r\n"
     ]
    }
   ],
   "source": [
    "\n",
    "String edad = \"5\";\n",
    "int opc = Integer.parseInt(edad);\n",
    "System.out.println(opc);\n"
   ]
  }
 ],
 "metadata": {
  "kernelspec": {
   "display_name": "Java",
   "language": "java",
   "name": "java"
  },
  "language_info": {
   "codemirror_mode": "java",
   "file_extension": ".jshell",
   "mimetype": "text/x-java-source",
   "name": "Java",
   "pygments_lexer": "java",
   "version": "19.0.2+7-44"
  }
 },
 "nbformat": 4,
 "nbformat_minor": 5
}
