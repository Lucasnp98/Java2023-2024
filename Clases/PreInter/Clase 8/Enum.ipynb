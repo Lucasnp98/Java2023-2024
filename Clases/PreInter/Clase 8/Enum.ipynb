{
 "cells": [
  {
   "cell_type": "markdown",
   "metadata": {},
   "source": [
    "### Clase Arma"
   ]
  },
  {
   "cell_type": "code",
   "execution_count": 9,
   "metadata": {},
   "outputs": [],
   "source": [
    "public class Arma\n",
    "{\n",
    "\tString nombre;\n",
    "\tint danio;\n",
    "\tdouble probabilidad; \n",
    "    Disparo tipo_disparo;//[0, 1)\n",
    "\n",
    "\tArma(String nombre, int danio, double probabilidad, Disparo tipo_disparo)\n",
    "\t{\n",
    "\t\tthis.nombre = nombre;\n",
    "\t\tthis.danio = danio;\n",
    "\t\tthis.probabilidad = probabilidad;\t\n",
    "        this.tipo_disparo = tipo_disparo;\n",
    "\t}\n",
    "\n",
    "\tdouble getProbabilidad()\n",
    "\t{\n",
    "\t\treturn probabilidad;\n",
    "\t}\n",
    "    \n",
    "    void setDisparo(Disparo tipo_disparo)\n",
    "    {\n",
    "        this.tipo_disparo = tipo_disparo;\n",
    "    }\n",
    "    \n",
    "    Disparo getDisparo()\n",
    "    {\n",
    "        return tipo_disparo;\n",
    "    }\n",
    "\tint getDanio()\n",
    "\t{\n",
    "\t\treturn danio;\n",
    "\t}\n",
    "    @Override\n",
    "\tpublic String toString()\n",
    "\t{\n",
    "\t\treturn nombre + \"(\" + danio + \") \" + probabilidad +\" \"+  tipo_disparo;\n",
    "\t}\n",
    "}"
   ]
  },
  {
   "cell_type": "markdown",
   "metadata": {},
   "source": [
    "### Creamos el enum Disparo"
   ]
  },
  {
   "cell_type": "code",
   "execution_count": 10,
   "metadata": {},
   "outputs": [],
   "source": [
    "public enum Disparo\n",
    "{\n",
    "REPETICION(10), AUTOMATICO(50), SEMIAUTOMATICO(20);\n",
    "int balas_cargador;\n",
    "\n",
    "Disparo(int balas_cargador)\n",
    "{\n",
    "this.balas_cargador = balas_cargador;\n",
    "}\n",
    "\n",
    "int getBalas()\n",
    "{\n",
    "return balas_cargador;\n",
    "}\n",
    "void setBalas(int balas)\n",
    "{\n",
    "this.balas_cargador = balas_cargador;\n",
    "}\n",
    "\n",
    "@Override \n",
    "public String toString()\n",
    "{\n",
    "return this.name() + \" \" + balas_cargador + \" Balas\";\n",
    "}\n",
    "\n",
    "\n",
    "}"
   ]
  },
  {
   "cell_type": "markdown",
   "metadata": {},
   "source": [
    "### App"
   ]
  },
  {
   "cell_type": "code",
   "execution_count": 11,
   "metadata": {},
   "outputs": [
    {
     "name": "stdout",
     "output_type": "stream",
     "text": [
      "REPETICION 10 Balas\n",
      "AUTOMATICO 50 Balas\n",
      "SEMIAUTOMATICO 20 Balas\n"
     ]
    }
   ],
   "source": [
    "for(Disparo disparo : Disparo.values())\n",
    "{\n",
    "System.out.println(disparo.toString());\n",
    "}"
   ]
  },
  {
   "cell_type": "markdown",
   "metadata": {},
   "source": [
    "### App"
   ]
  },
  {
   "cell_type": "code",
   "execution_count": 12,
   "metadata": {},
   "outputs": [
    {
     "name": "stdout",
     "output_type": "stream",
     "text": [
      "Escopeta(50) 0.3 AUTOMATICO 50 Balas\n",
      "Franco(100) 0.6 SEMIAUTOMATICO 20 Balas\n",
      "Pistola(10) 0.8 REPETICION 10 Balas\n"
     ]
    }
   ],
   "source": [
    "Arma a1 = new Arma(\"Escopeta\", 50, 0.3, Disparo.AUTOMATICO);\n",
    "Arma a2 = new Arma(\"Franco\", 100, 0.6, Disparo.SEMIAUTOMATICO);\n",
    "Arma a3 = new Arma(\"Pistola\", 10, 0.8, Disparo.REPETICION);\n",
    "Arma armas[] = new Arma[3];\n",
    "armas[0] = a1;\n",
    "armas[1] = a2;\n",
    "armas[2] = a3;\n",
    "\n",
    "for (Arma a:armas)\n",
    "{\n",
    "System.out.println(a.toString());\n",
    "}\n"
   ]
  },
  {
   "cell_type": "markdown",
   "metadata": {},
   "source": [
    "### Enum Truco"
   ]
  },
  {
   "cell_type": "code",
   "execution_count": 13,
   "metadata": {},
   "outputs": [],
   "source": [
    "public enum Truco\n",
    "{\n",
    "\tMUNICION_INFINITA(10), VIDA_MAXIMA(5), ARMA_PODEROSA(15);\n",
    "\n",
    "\tint coste;\n",
    "\n",
    "\tTruco(int coste)\n",
    "\t{\n",
    "\t\tthis.coste = coste;\n",
    "\t}\n",
    "\n",
    "\tint getCoste()\n",
    "\t{\n",
    "\t\treturn coste;\n",
    "\t}\n",
    "\n",
    "\tvoid setCoste(int coste)\n",
    "\t{\n",
    "\t\tthis.coste = coste;\n",
    "\t}\n",
    "    @Override\n",
    "\tpublic String toString()\n",
    "\t{\n",
    "\t\treturn this.name() + \" (\" + coste + \" Euros)\";\n",
    "\t}\n",
    "\n",
    "}\n",
    "\n",
    "\n"
   ]
  },
  {
   "cell_type": "markdown",
   "metadata": {},
   "source": [
    "### AppTruco"
   ]
  },
  {
   "cell_type": "code",
   "execution_count": 14,
   "metadata": {},
   "outputs": [
    {
     "name": "stdout",
     "output_type": "stream",
     "text": [
      "Información de los trucos del juego:\n",
      "MUNICION_INFINITA (10 Euros): tiene un coste de 10 Euros\n",
      "VIDA_MAXIMA (5 Euros): tiene un coste de 5 Euros\n",
      "ARMA_PODEROSA (15 Euros): tiene un coste de 15 Euros\n",
      "MUNICION_INFINITA (10 Euros)\n"
     ]
    }
   ],
   "source": [
    "System.out.println(\"Información de los trucos del juego:\");\n",
    "\n",
    "for(Truco truco : Truco.values()) \n",
    "    System.out.println(truco + \": tiene un coste de \" + truco.getCoste() + \" Euros\");\n",
    "\n",
    "Truco trucoVidaMax = Truco.valueOf(\"MUNICION_INFINITA\"); \n",
    "System.out.println(trucoVidaMax.toString());     "
   ]
  },
  {
   "cell_type": "markdown",
   "metadata": {},
   "source": [
    "### Clase Personaje"
   ]
  },
  {
   "cell_type": "code",
   "execution_count": 18,
   "metadata": {},
   "outputs": [],
   "source": [
    "public class Personaje implements Picable\n",
    "{ \n",
    "\tpublic final static int VIDA_MAX = 100;  //final permite declarar constantes.\n",
    "\tpublic final static int VIDA_MIN = 0;\n",
    "\n",
    "\t//Atributo de clase\n",
    "\tstatic String PARTIDA;\n",
    "\t\n",
    "\t//Atributos de instancia\n",
    "\tString nombre; \n",
    "\tint vida;\t   \n",
    "\tArma arma; \n",
    "\tint materialPicado;\n",
    "\n",
    "\tPersonaje(String nombre)\n",
    "\t{\n",
    "\t\tthis(nombre, VIDA_MAX, null);\n",
    "\t}\n",
    "\n",
    "\tPersonaje(String nombre, Arma arma)\n",
    "\t{\n",
    "\t\tthis(nombre, VIDA_MAX, arma);\n",
    "\t}\n",
    "\n",
    "\tPersonaje(String nombre, int vida, Arma arma)\n",
    "\t{\n",
    "\t\tthis.setNombre(nombre);\n",
    "\t\tthis.setVida(vida);\n",
    "\t\tthis.setArma(arma);\n",
    "\t\tthis.materialPicado = 0;\n",
    "\t}\n",
    "\n",
    "\tstatic void setPARTIDA(String partida)\n",
    "\t{\n",
    "\t\tPARTIDA = partida;\n",
    "\t}\n",
    "\n",
    "\tString getNombre()\n",
    "\t{\n",
    "\t\treturn nombre;\n",
    "\t}\n",
    "\t\n",
    "\tint getVida()\n",
    "\t{\n",
    "\t\treturn vida;\n",
    "\t}\n",
    "\n",
    "\tArma getArma()\n",
    "\t{\n",
    "\t\treturn arma;\n",
    "\t}\n",
    "\n",
    "\tvoid setNombre(String nombre)\n",
    "\t{\n",
    "\t\tthis.nombre = nombre;\n",
    "\t}\n",
    "\n",
    "\tvoid setVida(int vida)\n",
    "\t{\n",
    "\t\tif(vida >= VIDA_MIN && vida <= VIDA_MAX)\n",
    "\t\t\tthis.vida = vida;\n",
    "\t}\n",
    "\n",
    "\tvoid setArma(Arma arma)\n",
    "\t{\n",
    "\t\tthis.arma = arma;\n",
    "\t}\n",
    "\n",
    "\tvoid herir(int vidaARestar)\n",
    "\t{\n",
    "\t\tthis.vida -= vidaARestar;\n",
    "\t}\n",
    "\n",
    "\tvoid addVida(int deltaVida)\n",
    "\t{\n",
    "\t\tvida += deltaVida;\n",
    "\t}\n",
    "\n",
    "\tvoid disparar(Personaje p)\n",
    "\t{\n",
    "\t\tdouble random = Math.random();\n",
    "\t\tif (arma != null && random < arma.getProbabilidad())\n",
    "\t\t\tp.herir(arma.getDanio());\n",
    "\t}\n",
    "\n",
    "\tvoid picar(Picable picable)\n",
    "\t{\n",
    "\t\tmaterialPicado += picable.esPicado();\n",
    "\n",
    "\t\tif (picable instanceof Personaje)\n",
    "\t\t{\n",
    "\t\t\t//DOWNCASTING\n",
    "\t\t\tPersonaje personaje = (Personaje) picable;  //DOWNCASTING\n",
    "\t\t\tpersonaje.herir(10);\n",
    "\t\t}\n",
    "\t}\n",
    "\n",
    "\t@Override\n",
    "\tpublic int esPicado()\n",
    "\t{\n",
    "\t\treturn 0;\n",
    "\t}\t\n",
    "/*\n",
    "\tPersonaje no es un objeto de tipo Picable \n",
    "\tvoid picar(Personaje personaje)\n",
    "\t{\n",
    "\t\tpersonaje.herir(10);\n",
    "\t}\n",
    "\n",
    "\t*/\n",
    "    @Override \n",
    "\tpublic String toString()\n",
    "\t{\n",
    "\t\tString armaStr = \"(sin arma)\";\n",
    "\t\tif (arma != null)\n",
    "\t\t\tarmaStr = arma.toString();\n",
    "\n",
    "\t\treturn PARTIDA + \"<>\" + nombre + \"(\" + vida + \")\" + armaStr + \" #\" + materialPicado;\n",
    "\t}\n",
    "}"
   ]
  },
  {
   "cell_type": "markdown",
   "metadata": {},
   "source": [
    "### Clase Personaje Pago"
   ]
  },
  {
   "cell_type": "code",
   "execution_count": 19,
   "metadata": {},
   "outputs": [],
   "source": [
    "public class PersonajePago extends Personaje\n",
    "{\n",
    "\tint creditos;\n",
    "\n",
    "\tPersonajePago(String nombre, int vida, Arma arma, int creditos)\n",
    "\t{\n",
    "\t\tsuper(nombre, vida, arma);\n",
    "\t\tthis.setCreditos(creditos);\n",
    "\t}\n",
    "\n",
    "\tvoid setCreditos(int creditos)\n",
    "\t{\n",
    "\t\tthis.creditos = creditos;\n",
    "\t}\n",
    "\n",
    "\tint getCreditos()\n",
    "\t{\n",
    "\t\treturn creditos;\n",
    "\t}\n",
    "\n",
    "\t@Override\n",
    "\tpublic String toString()\n",
    "\t{\n",
    "\t\treturn super.toString() + \" Cred: \" + creditos;\n",
    "\t}\n",
    "\t\n",
    "}"
   ]
  },
  {
   "cell_type": "markdown",
   "metadata": {},
   "source": [
    "### Clase PersonajeHackeado"
   ]
  },
  {
   "cell_type": "code",
   "execution_count": 20,
   "metadata": {},
   "outputs": [],
   "source": [
    "\n",
    "public class PersonajeHackeado extends PersonajePago\n",
    "{\n",
    "\tTruco trucos[] = new Truco[10];\n",
    "\n",
    "\tPersonajeHackeado(String nombre, int vida, Arma arma, int creditos, Truco truco)\n",
    "\t{\n",
    "\t\tsuper(nombre, vida, arma, creditos);\n",
    "\t\tthis.addTruco(truco);\n",
    "\t}\n",
    "\n",
    "\tPersonajeHackeado(String nombre, int vida, Arma arma, int creditos, Truco trucos[])\n",
    "\t{\n",
    "\t\tsuper(nombre, vida, arma, creditos);\n",
    "\t\tthis.setTrucos(trucos);\n",
    "\t}\n",
    "\n",
    "\tvoid addTruco(Truco truco)\n",
    "\t{\n",
    "\t\tif(creditos > truco.getCoste())\n",
    "\t\t\tfor(int i = 0;i < trucos.length; i++)\n",
    "\t\t\t\tif (trucos[i] == null)\n",
    "\t\t\t\t{\n",
    "\t\t\t\t\ttrucos[i] = truco;\n",
    "\t\t\t\t\tcreditos -= truco.getCoste();\n",
    "\t\t\t\t\ti = trucos.length;\n",
    "\t\t\t\t}\n",
    "\n",
    "\t}\n",
    "\n",
    "\tvoid setTrucos(Truco trucos[])\n",
    "\t{\n",
    "\t\tthis.trucos = trucos;\n",
    "\t}\n",
    "\n",
    "\tTruco[] getTrucos()\n",
    "\t{\n",
    "\t\treturn trucos;\n",
    "\t}\n",
    "\n",
    "\t@Override\n",
    "\tvoid herir(int vidaARestar)\n",
    "\t{\n",
    "\t\tboolean vida_max_hack = false; \n",
    "\n",
    "\t\tfor(Truco truco : trucos)\n",
    "\t\t\tif(truco != null)\n",
    "\t\t\t\tif (truco == Truco.VIDA_MAXIMA)\n",
    "\t\t\t\t\tvida_max_hack = true;\n",
    "\n",
    "\t\tif (!vida_max_hack) \n",
    "\t\t\tthis.vida -= vidaARestar;\n",
    "\t}\n",
    "\n",
    "\n",
    "\t@Override\n",
    "\tpublic String toString()\n",
    "\t{\n",
    "\t\tString listadoTrucos = \"\";\n",
    "\t\tfor(Truco truco : trucos)\n",
    "\t\t\tif(truco != null)\n",
    "\t\t\t\tlistadoTrucos += \"\\t- \" + truco.toString() + \"\\n\";\n",
    "\n",
    "\t\treturn super.toString() + \" Trucos: \\n\" + listadoTrucos;\n",
    "\t}\n",
    "\t\n",
    "}"
   ]
  },
  {
   "cell_type": "markdown",
   "metadata": {},
   "source": [
    "### Interface Picable"
   ]
  },
  {
   "cell_type": "code",
   "execution_count": 17,
   "metadata": {},
   "outputs": [],
   "source": [
    "public interface Picable\n",
    "{\n",
    "\tpublic int esPicado();\n",
    "}\n",
    "\n",
    "\n"
   ]
  },
  {
   "cell_type": "markdown",
   "metadata": {},
   "source": [
    "### AppArray"
   ]
  },
  {
   "cell_type": "code",
   "execution_count": 22,
   "metadata": {},
   "outputs": [
    {
     "name": "stdout",
     "output_type": "stream",
     "text": [
      "Partida #1<>The Greft(100)Escopeta(20) 0.8 SEMIAUTOMATICO 20 Balas #0\n",
      "Partida #1<>Ampeter(100)(sin arma) #0\n",
      "Partida #1<>Cobra(80)Pistola(10) 0.5 AUTOMATICO 50 Balas #0\n",
      "Partida #1<>Gemita(100)(sin arma) #0\n",
      "Partida #1<>Luis(22)Pistola(10) 0.5 AUTOMATICO 50 Balas #0 Cred: 100\n",
      "Partida #1<>Luis(22)Escopeta(20) 0.8 SEMIAUTOMATICO 20 Balas #0 Cred: 70 Trucos: \n",
      "\t- MUNICION_INFINITA (10 Euros)\n",
      "\t- VIDA_MAXIMA (5 Euros)\n",
      "\t- ARMA_PODEROSA (15 Euros)\n",
      "\n"
     ]
    }
   ],
   "source": [
    "\n",
    "Personaje.setPARTIDA(\"Partida #1\");\n",
    "\n",
    "Arma escopeta1 = new Arma(\"Escopeta\", 20, 0.8,Disparo.SEMIAUTOMATICO);\n",
    "Arma pistola1 = new Arma(\"Pistola\", 10, 0.5,Disparo.AUTOMATICO);\n",
    "\n",
    "//El array podrá almacenar todo tipo de personajes\n",
    "Personaje personajes[] = new Personaje[10];\n",
    "personajes[0] = new Personaje(\"The Greft\", 100, escopeta1);\n",
    "personajes[1] = new Personaje(\"Ampeter\");\n",
    "personajes[2] = new Personaje(\"Cobra\", 80, pistola1);\n",
    "personajes[3] = new Personaje(\"Gemita\");\n",
    "\n",
    "PersonajePago pp = new PersonajePago(\"Luis\", 22, pistola1, 100);\n",
    "personajes[4] = pp;  \n",
    "\n",
    "PersonajeHackeado ph = new PersonajeHackeado(\"Luis\", 22, escopeta1, 100, Truco.MUNICION_INFINITA);\n",
    "ph.addTruco(Truco.VIDA_MAXIMA);\n",
    "ph.addTruco(Truco.ARMA_PODEROSA);\n",
    "\n",
    "personajes[5] = ph; \n",
    "\n",
    "for(Personaje personaje : personajes)\n",
    "    if(personaje != null) \n",
    "        System.out.println(personaje.toString());\n"
   ]
  },
  {
   "cell_type": "code",
   "execution_count": 32,
   "metadata": {},
   "outputs": [
    {
     "name": "stdout",
     "output_type": "stream",
     "text": [
      "Partida #1<>Luis(22)Escopeta(20) 0.8 SEMIAUTOMATICO 20 Balas #0 Cred: 5 Trucos: \n",
      "\t- MUNICION_INFINITA (10 Euros)\n",
      "\n",
      "Partida #1<>Luis(22)Escopeta(20) 0.8 SEMIAUTOMATICO 20 Balas #0 Cred: 5 Trucos: \n",
      "\t- MUNICION_INFINITA (10 Euros)\n",
      "\n"
     ]
    }
   ],
   "source": [
    "PersonajeHackeado ph = new PersonajeHackeado(\"Luis\", 22, escopeta1, 15, Truco.MUNICION_INFINITA);\n",
    "\n",
    "System.out.println(ph.toString());\n",
    "ph.addTruco(Truco.ARMA_PODEROSA);\n",
    "System.out.println(ph.toString());"
   ]
  },
  {
   "cell_type": "code",
   "execution_count": null,
   "metadata": {},
   "outputs": [],
   "source": []
  }
 ],
 "metadata": {
  "kernelspec": {
   "display_name": "Java",
   "language": "java",
   "name": "java"
  },
  "language_info": {
   "codemirror_mode": "java",
   "file_extension": ".jshell",
   "mimetype": "text/x-java-source",
   "name": "Java",
   "pygments_lexer": "java",
   "version": "19.0.2+7-44"
  }
 },
 "nbformat": 4,
 "nbformat_minor": 4
}
