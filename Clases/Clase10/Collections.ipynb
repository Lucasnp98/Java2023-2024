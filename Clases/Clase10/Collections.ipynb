{
 "cells": [
  {
   "cell_type": "markdown",
   "metadata": {},
   "source": [
    "### Primera clase de Collection (Arraylist)\n",
    "- Collection: https://docs.oracle.com/javase/8/docs/api/java/util/Collection.html\n",
    "- Arraylist: https://docs.oracle.com/javase/8/docs/api/java/util/ArrayList.html"
   ]
  },
  {
   "cell_type": "code",
   "execution_count": 101,
   "metadata": {},
   "outputs": [],
   "source": [
    "public class Persona\n",
    "{ \n",
    "    private String nif;\n",
    "    private String nombre;\n",
    "    private int edad;\n",
    "    \n",
    "    public Persona(String nif, String nombre, int edad) \n",
    "    {\n",
    "        this.nif = nif;\n",
    "        this.nombre = nombre;\n",
    "        this.edad = edad;\n",
    "    }\n",
    "    \n",
    "    public Persona(String nif) \n",
    "    {\n",
    "        this.nif = nif;\n",
    "    }\n",
    "\n",
    "    public String getNif()\n",
    "    {\n",
    "        return nif;\n",
    "    }\n",
    "    \n",
    "    @Override\n",
    "    public String toString()\n",
    "    {\n",
    "        StringBuilder sb = new StringBuilder();\n",
    "        sb.append(\"NIF: \")\n",
    "          .append(nif)\n",
    "          .append(\" Nombre: \")\n",
    "          .append(nombre)\n",
    "          .append(\" Edad: \")\n",
    "          .append(edad);\n",
    "        return sb.toString();\n",
    "    }\n",
    "    \n",
    "    @Override\n",
    "    public boolean equals(Object obj) //Upcasting, el objeto que recibe lo vemos como un Objeto\n",
    "    {\n",
    "        if(obj instanceof Persona) //Si la instancia del objeto es una Persona...\n",
    "        {\n",
    "            Persona p = (Persona) obj; //Hacemos un downcasting (explícito) y bajamos el inyerfaz\n",
    "            if (nif.equals(p.getNif())) //Llama al equals de String, que funciona correctamente\n",
    "                return true;\n",
    "            else\n",
    "                return false;\n",
    "        }\n",
    "        else\n",
    "            return false;\n",
    "    }\n",
    "}"
   ]
  },
  {
   "cell_type": "markdown",
   "metadata": {},
   "source": [
    "### Ejemplo de ArrayList"
   ]
  },
  {
   "cell_type": "code",
   "execution_count": 102,
   "metadata": {},
   "outputs": [
    {
     "name": "stdout",
     "output_type": "stream",
     "text": [
      "NIF: 123 Nombre: Lucas Edad: 22\n",
      "123\n"
     ]
    }
   ],
   "source": [
    "import java.util.ArrayList;\n",
    "import java.util.List;\n",
    "import java.util.Collection;\n",
    "\n",
    "List personas = new ArrayList();\n",
    "personas.add(new Persona(\"123\",\"Lucas\",22));\n",
    "System.out.println(personas.get(0).toString());\n",
    "\n",
    "Persona p = (Persona)personas.get(0);\n",
    "System.out.println(p.getNif());\n",
    "\n",
    "\n",
    "\n"
   ]
  },
  {
   "cell_type": "code",
   "execution_count": 103,
   "metadata": {},
   "outputs": [
    {
     "name": "stdout",
     "output_type": "stream",
     "text": [
      "true\n",
      "[NIF: 22222A Nombre: Miguel Edad: 33, NIF: 44444A Nombre: Lucas Edad: 23, NIF: 33333A Nombre: Jaime Edad: 28]\n",
      "1.- NIF: 22222A Nombre: Miguel Edad: 33\n",
      "1.- NIF: 44444A Nombre: Lucas Edad: 23\n",
      "1.- NIF: 33333A Nombre: Jaime Edad: 28\n",
      "----------------\n",
      "1.- NIF: 22222A Nombre: Miguel Edad: 33\n",
      "1.- NIF: 44444A Nombre: Lucas Edad: 23\n",
      "1.- NIF: 33333A Nombre: Jaime Edad: 28\n",
      "1.- Hola\n",
      "1.- 10\n",
      "NIF: 22222A Nombre: Miguel Edad: 33\n",
      "---------------\n",
      "1.- NIF: 11111A Nombre: Luis Edad: 22\n",
      "1.- NIF: 22222A Nombre: Miguel Edad: 33\n",
      "1.- NIF: 33333A Nombre: Jaime Edad: 28\n"
     ]
    }
   ],
   "source": [
    "import java.util.ArrayList;\n",
    "import java.util.List;\n",
    "import java.util.Collection;\n",
    "\n",
    "\n",
    "List personas = new ArrayList(); \n",
    "\n",
    "personas.add(new Persona(\"11111A\", \"Luis\", 22));\n",
    "personas.add(new Persona(\"22222A\", \"Miguel\", 33));\n",
    "personas.add(new Persona(\"33333A\", \"Jaime\", 28));\n",
    "\n",
    "Persona p = new Persona(\"44444A\", \"Lucas\", 23);\n",
    "personas.add(p);\n",
    "\n",
    "personas.add(new Persona(\"33333A\", \"Jaime\", 28));\n",
    "\n",
    "System.out.println(personas.contains(new Persona(\"11111A\")));\n",
    "\n",
    "personas.remove(0);\n",
    "personas.remove(new Persona(\"33333A\", \"Jaime\", 28));\n",
    "\n",
    "\n",
    "//p = personas.get(2);\n",
    "\n",
    "\n",
    "//p = (Persona) personas.get(2);   \n",
    "System.out.println(personas);\n",
    "\n",
    "for(int i=0;i<personas.size();i++)\n",
    "    System.out.println(\"1.- \" + personas.get(i)); \n",
    "    \n",
    "\n",
    "\n",
    "System.out.println(\"----------------\");\n",
    "\n",
    "personas.add(\"Hola\");      \n",
    "personas.add(Integer.valueOf(10));\n",
    "\n",
    "for(int i=0;i<personas.size();i++)\n",
    "    System.out.println(\"1.- \" + personas.get(i));\n",
    "\n",
    "\n",
    "List<Persona> personasTipo = new ArrayList<Persona>();\n",
    "personasTipo.add(new Persona(\"11111A\", \"Luis\", 22));\n",
    "personasTipo.add(new Persona(\"22222A\", \"Miguel\", 33));\n",
    "personasTipo.add(new Persona(\"33333A\", \"Jaime\", 28));\n",
    "\n",
    "\n",
    "p = personasTipo.get(1);  //No hace falta Downcasting al estar tipificada la colleción.\n",
    "System.out.println(p.toString());\n",
    "System.out.println(\"---------------\");\n",
    "\n",
    "for(int i=0;i<personasTipo.size();i++)\n",
    "    System.out.println(\"1.- \" + personasTipo.get(i));\n"
   ]
  },
  {
   "cell_type": "markdown",
   "metadata": {},
   "source": [
    "### LinkedList\n",
    "https://docs.oracle.com/javase/8/docs/api/java/util/LinkedList.html"
   ]
  },
  {
   "cell_type": "markdown",
   "metadata": {},
   "source": []
  },
  {
   "cell_type": "code",
   "execution_count": 104,
   "metadata": {},
   "outputs": [
    {
     "name": "stdout",
     "output_type": "stream",
     "text": [
      "true\n",
      "[NIF: 22222A Nombre: Miguel Edad: 33, NIF: 44444A Nombre: Lucas Edad: 23, NIF: 33333A Nombre: Jaime Edad: 28]\n",
      "1.- NIF: 22222A Nombre: Miguel Edad: 33\n",
      "1.- NIF: 44444A Nombre: Lucas Edad: 23\n",
      "1.- NIF: 33333A Nombre: Jaime Edad: 28\n",
      "----------------\n",
      "1.- NIF: 22222A Nombre: Miguel Edad: 33\n",
      "1.- NIF: 44444A Nombre: Lucas Edad: 23\n",
      "1.- NIF: 33333A Nombre: Jaime Edad: 28\n",
      "1.- Hola\n",
      "1.- 10\n",
      "NIF: 22222A Nombre: Miguel Edad: 33\n",
      "---------------\n",
      "1.- NIF: 11111A Nombre: Luis Edad: 22\n",
      "1.- NIF: 22222A Nombre: Miguel Edad: 33\n",
      "1.- NIF: 33333A Nombre: Jaime Edad: 28\n"
     ]
    }
   ],
   "source": [
    "import java.util.ArrayList;\n",
    "import java.util.List;\n",
    "import java.util.Collection;\n",
    "\n",
    "\n",
    "List personas = new ArrayList(); \n",
    "\n",
    "personas.add(new Persona(\"11111A\", \"Luis\", 22));\n",
    "personas.add(new Persona(\"22222A\", \"Miguel\", 33));\n",
    "personas.add(new Persona(\"33333A\", \"Jaime\", 28));\n",
    "\n",
    "Persona p = new Persona(\"44444A\", \"Lucas\", 23);\n",
    "personas.add(p);\n",
    "\n",
    "personas.add(new Persona(\"33333A\", \"Jaime\", 28));\n",
    "\n",
    "System.out.println(personas.contains(new Persona(\"11111A\")));\n",
    "\n",
    "personas.remove(0);\n",
    "personas.remove(new Persona(\"33333A\", \"Jaime\", 28));\n",
    "\n",
    "\n",
    "//p = personas.get(2);\n",
    "\n",
    "\n",
    "//p = (Persona) personas.get(2);   \n",
    "System.out.println(personas);\n",
    "\n",
    "for(int i=0;i<personas.size();i++)\n",
    "    System.out.println(\"1.- \" + personas.get(i));    \n",
    "\n",
    "System.out.println(\"----------------\");\n",
    "\n",
    "personas.add(\"Hola\");      \n",
    "personas.add(Integer.valueOf(10));\n",
    "\n",
    "for(int i=0;i<personas.size();i++)\n",
    "    System.out.println(\"1.- \" + personas.get(i));\n",
    "\n",
    "\n",
    "List<Persona> personasTipo = new ArrayList<Persona>();\n",
    "personasTipo.add(new Persona(\"11111A\", \"Luis\", 22));\n",
    "personasTipo.add(new Persona(\"22222A\", \"Miguel\", 33));\n",
    "personasTipo.add(new Persona(\"33333A\", \"Jaime\", 28));\n",
    "\n",
    "\n",
    "p = personasTipo.get(1);  //No hace falta Downcasting al estar tipificada la colleción.\n",
    "System.out.println(p.toString());\n",
    "System.out.println(\"---------------\");\n",
    "\n",
    "for(int i=0;i<personasTipo.size();i++)\n",
    "    System.out.println(\"1.- \" + personasTipo.get(i));\n"
   ]
  },
  {
   "cell_type": "markdown",
   "metadata": {},
   "source": [
    "### HashSet\n",
    "- https://docs.oracle.com/javase/8/docs/api/java/util/HashSet.html\n"
   ]
  },
  {
   "cell_type": "markdown",
   "metadata": {},
   "source": [
    "### Ejemplo 1"
   ]
  },
  {
   "cell_type": "code",
   "execution_count": 105,
   "metadata": {},
   "outputs": [
    {
     "name": "stdout",
     "output_type": "stream",
     "text": [
      "Elementos en el HashSet: [uno, dos, tres]\n",
      "Resultado de agregar 'uno' nuevamente: false\n"
     ]
    }
   ],
   "source": [
    "HashSet<String> hashSet = new HashSet<>();\n",
    "\n",
    "// Agregar elementos al HashSet\n",
    "hashSet.add(\"uno\");\n",
    "hashSet.add(\"dos\");\n",
    "hashSet.add(\"tres\");\n",
    "\n",
    "// Intentar agregar un elemento duplicado\n",
    "boolean resultado = hashSet.add(\"uno\"); // No se agregará porque ya está presente\n",
    "\n",
    "// Imprimir el conjunto después de intentar agregar un duplicado\n",
    "System.out.println(\"Elementos en el HashSet: \" + hashSet);\n",
    "System.out.println(\"Resultado de agregar 'uno' nuevamente: \" + resultado);"
   ]
  },
  {
   "cell_type": "markdown",
   "metadata": {},
   "source": [
    "### Ejemplo2"
   ]
  },
  {
   "cell_type": "code",
   "execution_count": 106,
   "metadata": {},
   "outputs": [
    {
     "name": "stdout",
     "output_type": "stream",
     "text": [
      "Elementos en el HashSet: [1, 2, 3]\n",
      "Resultado de agregar '1' nuevamente: false\n"
     ]
    }
   ],
   "source": [
    "HashSet<Integer> hashSet = new HashSet<>();\n",
    "\n",
    "// Agregar elementos al HashSet\n",
    "hashSet.add(1);\n",
    "hashSet.add(2);\n",
    "hashSet.add(3);\n",
    "\n",
    "// Intentar agregar un elemento duplicado\n",
    "boolean resultado = hashSet.add(1); // No se agregará porque ya está presente\n",
    "\n",
    "// Imprimir el conjunto después de intentar agregar un duplicado\n",
    "System.out.println(\"Elementos en el HashSet: \" + hashSet);\n",
    "System.out.println(\"Resultado de agregar '1' nuevamente: \" + resultado);"
   ]
  },
  {
   "cell_type": "markdown",
   "metadata": {},
   "source": [
    "### Ejemplo con Personas..."
   ]
  },
  {
   "cell_type": "code",
   "execution_count": 107,
   "metadata": {},
   "outputs": [
    {
     "name": "stdout",
     "output_type": "stream",
     "text": [
      "1672687694\n",
      "1836368456\n",
      "[NIF: 44444A Nombre: Lucas Edad: 23, NIF: 44444A Nombre: Lucas Edad: 23]\n"
     ]
    }
   ],
   "source": [
    "\n",
    "Collection miCollection = new HashSet();\n",
    "HashSet miCollection = new HashSet();\n",
    "\n",
    "Persona p1 = new Persona(\"44444A\", \"Lucas\", 23);\n",
    "Persona p2 = new Persona(\"44444A\", \"Lucas\", 23);\n",
    "\n",
    "miCollection.add(p1);\n",
    "miCollection.add(p2);\n",
    "\n",
    "System.out.println(p1.hashCode());\n",
    "System.out.println(p2.hashCode());\n",
    "//miCollection.add(p1);\n",
    "\n",
    "System.out.println(miCollection);"
   ]
  },
  {
   "cell_type": "markdown",
   "metadata": {},
   "source": [
    "### Repaso de Equals y hashCode()"
   ]
  },
  {
   "cell_type": "code",
   "execution_count": 108,
   "metadata": {},
   "outputs": [
    {
     "name": "stdout",
     "output_type": "stream",
     "text": [
      "true\n",
      "2255068\n",
      "2255068\n",
      "true\n"
     ]
    }
   ],
   "source": [
    "String v1 = \"Hola\";\n",
    "String v2 = \"Hola\";\n",
    "System.out.println(v1 == v2);\n",
    "System.out.println(v1.hashCode());\n",
    "System.out.println(v2.hashCode());\n",
    "System.out.println(v1.equals(v2));\n",
    "\n",
    "\n"
   ]
  },
  {
   "cell_type": "markdown",
   "metadata": {},
   "source": [
    "### Ejemplo con personas\n",
    "\n",
    "- Hacer ejemplo de los hashcode de personas y de nifs. "
   ]
  },
  {
   "cell_type": "markdown",
   "metadata": {},
   "source": [
    "### Modificando la clase persona..."
   ]
  },
  {
   "cell_type": "code",
   "execution_count": 109,
   "metadata": {},
   "outputs": [],
   "source": [
    "public class Persona\n",
    "{ \n",
    "    private String nif;\n",
    "    private String nombre;\n",
    "    private int edad;\n",
    "    \n",
    "    public Persona(String nif, String nombre, int edad) \n",
    "    {\n",
    "        this.nif = nif;\n",
    "        this.nombre = nombre;\n",
    "        this.edad = edad;\n",
    "    }\n",
    "    \n",
    "    public Persona(String nif) \n",
    "    {\n",
    "        this.nif = nif;\n",
    "    }\n",
    "\n",
    "    public String getNif()\n",
    "    {\n",
    "        return nif;\n",
    "    }\n",
    "    \n",
    "    @Override\n",
    "    public String toString()\n",
    "    {\n",
    "        StringBuilder sb = new StringBuilder();\n",
    "        sb.append(\"NIF: \")\n",
    "          .append(nif)\n",
    "          .append(\" Nombre: \")\n",
    "          .append(nombre)\n",
    "          .append(\" Edad: \")\n",
    "          .append(edad);\n",
    "        return sb.toString();\n",
    "    }\n",
    "    \n",
    "    @Override\n",
    "    public int hashCode()\n",
    "    {\n",
    "        return nif.hashCode();\n",
    "    }\n",
    "    \n",
    "    @Override\n",
    "    public boolean equals(Object obj) //Upcasting, el objeto que recibe lo vemos como un Objeto\n",
    "    {\n",
    "        if(obj instanceof Persona) //Si la instancia del objeto es una Persona...\n",
    "        {\n",
    "            Persona p = (Persona) obj; //Hacemos un downcasting (explícito) y bajamos el inyerfaz\n",
    "            if (nif.equals(p.getNif())) //Llama al equals de String, que funciona correctamente\n",
    "                return true;\n",
    "            else\n",
    "                return false;\n",
    "        }\n",
    "        else\n",
    "            return false;\n",
    "    }\n",
    "}"
   ]
  },
  {
   "cell_type": "markdown",
   "metadata": {},
   "source": [
    "### Ahora, cuando hemos modificado la clase persona..."
   ]
  },
  {
   "cell_type": "code",
   "execution_count": 110,
   "metadata": {},
   "outputs": [
    {
     "name": "stdout",
     "output_type": "stream",
     "text": [
      "1538339725\n",
      "1538339725\n",
      "[NIF: 44444A Nombre: Lucas Edad: 23]\n"
     ]
    }
   ],
   "source": [
    "\n",
    "Collection miCollection = new HashSet();\n",
    "HashSet miCollection = new HashSet();\n",
    "\n",
    "Persona p1 = new Persona(\"44444A\", \"Lucas\", 23);\n",
    "Persona p2 = new Persona(\"44444A\", \"Lucas\", 23);\n",
    "\n",
    "miCollection.add(p1);\n",
    "miCollection.add(p2);\n",
    "\n",
    "System.out.println(p1.hashCode());\n",
    "System.out.println(p2.hashCode());\n",
    "miCollection.add(p1);\n",
    "\n",
    "System.out.println(miCollection);"
   ]
  },
  {
   "cell_type": "markdown",
   "metadata": {},
   "source": [
    "### Iterator"
   ]
  },
  {
   "cell_type": "code",
   "execution_count": 112,
   "metadata": {},
   "outputs": [
    {
     "name": "stdout",
     "output_type": "stream",
     "text": [
      "22222A\n",
      "11111A\n",
      "33333A\n"
     ]
    }
   ],
   "source": [
    "Collection col = new LinkedList();\n",
    "col.add(new Persona(\"22222A\", \"Miguel\", 33));\n",
    "col.add(new Persona(\"11111A\", \"Luis\", 22));\n",
    "col.add(new Persona(\"33333A\", \"Jaime\", 28));\n",
    "Iterator it = col.iterator();\n",
    "while(it.hasNext())\n",
    "{\n",
    "    Object o = it.next();\n",
    "    Persona p = (Persona) o;\n",
    "    System.out.println(p.getNif());\n",
    "}"
   ]
  },
  {
   "cell_type": "code",
   "execution_count": 92,
   "metadata": {},
   "outputs": [
    {
     "name": "stdout",
     "output_type": "stream",
     "text": [
      "1538339725\n",
      "1538339725\n",
      "[NIF: 44444A Nombre: Lucas Edad: 23]\n",
      "44444A\n"
     ]
    }
   ],
   "source": [
    "Collection miCollection = new HashSet();\n",
    "HashSet miCollection = new HashSet();\n",
    "Persona p1 = new Persona(\"44444A\", \"Lucas\", 23);\n",
    "Persona p2 = new Persona(\"44444A\", \"Lucas\", 23);\n",
    "miCollection.add(p1);\n",
    "miCollection.add(p2);\n",
    "System.out.println(p1.hashCode());\n",
    "System.out.println(p2.hashCode());\n",
    "miCollection.add(p1);\n",
    "System.out.println(miCollection);\n",
    "\n",
    "\n",
    "Iterator it = miCollection.iterator();\n",
    "while(it.hasNext())\n",
    "{\n",
    "    Object o = it.next();\n",
    "    Persona p = (Persona) o;\n",
    "    System.out.println(p.getNif());\n",
    "}"
   ]
  },
  {
   "cell_type": "markdown",
   "metadata": {},
   "source": [
    "### Iterando con for each"
   ]
  },
  {
   "cell_type": "code",
   "execution_count": 113,
   "metadata": {},
   "outputs": [
    {
     "name": "stdout",
     "output_type": "stream",
     "text": [
      "22222A\n",
      "11111A\n",
      "33333A\n"
     ]
    }
   ],
   "source": [
    "Collection col = new LinkedList();\n",
    "col.add(new Persona(\"22222A\", \"Miguel\", 33));\n",
    "col.add(new Persona(\"11111A\", \"Luis\", 22));\n",
    "col.add(new Persona(\"33333A\", \"Jaime\", 28));\n",
    "\n",
    "for(Object o:col)\n",
    "{\n",
    "    Persona p = (Persona) o;\n",
    "    System.out.println(p.getNif());\n",
    "}"
   ]
  },
  {
   "cell_type": "code",
   "execution_count": 117,
   "metadata": {},
   "outputs": [
    {
     "name": "stdout",
     "output_type": "stream",
     "text": [
      "ArrayList: [10, 5, 8, 15, 3]\n",
      "Máximo: 15\n",
      "Mínimo: 3\n",
      "Media: 8.2\n"
     ]
    }
   ],
   "source": [
    "ArrayList<Integer> numeros = new ArrayList<>();\n",
    "numeros.add(10);\n",
    "numeros.add(5);\n",
    "numeros.add(8);\n",
    "numeros.add(15);\n",
    "numeros.add(3);\n",
    "\n",
    "// Inicializar variables para máximo, mínimo y suma\n",
    "int maximo = Integer.MIN_VALUE;\n",
    "int minimo = Integer.MAX_VALUE;\n",
    "int suma = 0;\n",
    "for (int numero : numeros) {\n",
    "    // Calcular máximo\n",
    "    if (numero > maximo) {\n",
    "        maximo = numero;\n",
    "    }\n",
    "\n",
    "    // Calcular mínimo\n",
    "    if (numero < minimo) {\n",
    "        minimo = numero;\n",
    "    }\n",
    "\n",
    "    // Sumar los elementos\n",
    "    suma += numero;\n",
    "}\n",
    "\n",
    "// Calcular la media\n",
    "double media = (double) suma / numeros.size();\n",
    "\n",
    "// Mostrar resultados\n",
    "System.out.println(\"ArrayList: \" + numeros);\n",
    "System.out.println(\"Máximo: \" + maximo);\n",
    "System.out.println(\"Mínimo: \" + minimo);\n",
    "System.out.println(\"Media: \" + media);"
   ]
  }
 ],
 "metadata": {
  "kernelspec": {
   "display_name": "Java",
   "language": "java",
   "name": "java"
  },
  "language_info": {
   "codemirror_mode": "java",
   "file_extension": ".jshell",
   "mimetype": "text/x-java-source",
   "name": "Java",
   "pygments_lexer": "java",
   "version": "19.0.2+7-44"
  }
 },
 "nbformat": 4,
 "nbformat_minor": 4
}
